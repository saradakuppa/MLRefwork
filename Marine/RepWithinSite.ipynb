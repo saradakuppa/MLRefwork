{
 "cells": [
  {
   "cell_type": "code",
   "execution_count": 2,
   "metadata": {},
   "outputs": [],
   "source": [
    "import numpy as np\n",
    "import pandas as pd"
   ]
  },
  {
   "cell_type": "code",
   "execution_count": 55,
   "metadata": {},
   "outputs": [],
   "source": [
    "repwithinsite = pd.read_csv('MarineReplicateWithInSite.csv')"
   ]
  },
  {
   "cell_type": "code",
   "execution_count": 56,
   "metadata": {},
   "outputs": [
    {
     "data": {
      "text/html": [
       "<div>\n",
       "<style scoped>\n",
       "    .dataframe tbody tr th:only-of-type {\n",
       "        vertical-align: middle;\n",
       "    }\n",
       "\n",
       "    .dataframe tbody tr th {\n",
       "        vertical-align: top;\n",
       "    }\n",
       "\n",
       "    .dataframe thead th {\n",
       "        text-align: right;\n",
       "    }\n",
       "</style>\n",
       "<table border=\"1\" class=\"dataframe\">\n",
       "  <thead>\n",
       "    <tr style=\"text-align: right;\">\n",
       "      <th></th>\n",
       "      <th>SiteID</th>\n",
       "      <th>EventDateStart</th>\n",
       "      <th>MarineReserveID</th>\n",
       "      <th>ReplicateWithinSite</th>\n",
       "      <th>PotNumber</th>\n",
       "    </tr>\n",
       "  </thead>\n",
       "  <tbody>\n",
       "    <tr>\n",
       "      <th>0</th>\n",
       "      <td>BNP_006</td>\n",
       "      <td>22/02/2010</td>\n",
       "      <td>2797862</td>\n",
       "      <td>1.0</td>\n",
       "      <td>4.0</td>\n",
       "    </tr>\n",
       "    <tr>\n",
       "      <th>1</th>\n",
       "      <td>BNP_006</td>\n",
       "      <td>22/02/2010</td>\n",
       "      <td>2797862</td>\n",
       "      <td>2.0</td>\n",
       "      <td>5.0</td>\n",
       "    </tr>\n",
       "    <tr>\n",
       "      <th>2</th>\n",
       "      <td>BNP_006</td>\n",
       "      <td>22/02/2010</td>\n",
       "      <td>2797862</td>\n",
       "      <td>2.0</td>\n",
       "      <td>5.0</td>\n",
       "    </tr>\n",
       "    <tr>\n",
       "      <th>3</th>\n",
       "      <td>BNP_006</td>\n",
       "      <td>22/02/2010</td>\n",
       "      <td>2797862</td>\n",
       "      <td>3.0</td>\n",
       "      <td>6.0</td>\n",
       "    </tr>\n",
       "    <tr>\n",
       "      <th>4</th>\n",
       "      <td>BNP_007</td>\n",
       "      <td>22/02/2010</td>\n",
       "      <td>2797862</td>\n",
       "      <td>1.0</td>\n",
       "      <td>38.0</td>\n",
       "    </tr>\n",
       "  </tbody>\n",
       "</table>\n",
       "</div>"
      ],
      "text/plain": [
       "    SiteID EventDateStart  MarineReserveID  ReplicateWithinSite  PotNumber\n",
       "0  BNP_006     22/02/2010          2797862                  1.0        4.0\n",
       "1  BNP_006     22/02/2010          2797862                  2.0        5.0\n",
       "2  BNP_006     22/02/2010          2797862                  2.0        5.0\n",
       "3  BNP_006     22/02/2010          2797862                  3.0        6.0\n",
       "4  BNP_007     22/02/2010          2797862                  1.0       38.0"
      ]
     },
     "execution_count": 56,
     "metadata": {},
     "output_type": "execute_result"
    }
   ],
   "source": [
    "repwithinsite.head(5)"
   ]
  },
  {
   "cell_type": "code",
   "execution_count": 57,
   "metadata": {},
   "outputs": [],
   "source": [
    "dfgroup = repwithinsite.groupby(['SiteID', 'EventDateStart', 'MarineReserveID', 'ReplicateWithinSite']).count().reset_index()\n",
    "    "
   ]
  },
  {
   "cell_type": "code",
   "execution_count": 58,
   "metadata": {},
   "outputs": [
    {
     "data": {
      "text/html": [
       "<div>\n",
       "<style scoped>\n",
       "    .dataframe tbody tr th:only-of-type {\n",
       "        vertical-align: middle;\n",
       "    }\n",
       "\n",
       "    .dataframe tbody tr th {\n",
       "        vertical-align: top;\n",
       "    }\n",
       "\n",
       "    .dataframe thead th {\n",
       "        text-align: right;\n",
       "    }\n",
       "</style>\n",
       "<table border=\"1\" class=\"dataframe\">\n",
       "  <thead>\n",
       "    <tr style=\"text-align: right;\">\n",
       "      <th></th>\n",
       "      <th>SiteID</th>\n",
       "      <th>EventDateStart</th>\n",
       "      <th>MarineReserveID</th>\n",
       "      <th>ReplicateWithinSite</th>\n",
       "      <th>PotNumber</th>\n",
       "    </tr>\n",
       "  </thead>\n",
       "  <tbody>\n",
       "    <tr>\n",
       "      <th>0</th>\n",
       "      <td>BNP_001</td>\n",
       "      <td>13/10/2010</td>\n",
       "      <td>2797862</td>\n",
       "      <td>1.0</td>\n",
       "      <td>1</td>\n",
       "    </tr>\n",
       "    <tr>\n",
       "      <th>1</th>\n",
       "      <td>BNP_001</td>\n",
       "      <td>13/10/2010</td>\n",
       "      <td>2797862</td>\n",
       "      <td>2.0</td>\n",
       "      <td>1</td>\n",
       "    </tr>\n",
       "    <tr>\n",
       "      <th>2</th>\n",
       "      <td>BNP_001</td>\n",
       "      <td>13/10/2010</td>\n",
       "      <td>2797862</td>\n",
       "      <td>3.0</td>\n",
       "      <td>1</td>\n",
       "    </tr>\n",
       "    <tr>\n",
       "      <th>3</th>\n",
       "      <td>BNP_001</td>\n",
       "      <td>22/02/2010</td>\n",
       "      <td>2797862</td>\n",
       "      <td>1.0</td>\n",
       "      <td>6</td>\n",
       "    </tr>\n",
       "    <tr>\n",
       "      <th>4</th>\n",
       "      <td>BNP_001</td>\n",
       "      <td>22/02/2010</td>\n",
       "      <td>2797862</td>\n",
       "      <td>2.0</td>\n",
       "      <td>1</td>\n",
       "    </tr>\n",
       "  </tbody>\n",
       "</table>\n",
       "</div>"
      ],
      "text/plain": [
       "    SiteID EventDateStart  MarineReserveID  ReplicateWithinSite  PotNumber\n",
       "0  BNP_001     13/10/2010          2797862                  1.0          1\n",
       "1  BNP_001     13/10/2010          2797862                  2.0          1\n",
       "2  BNP_001     13/10/2010          2797862                  3.0          1\n",
       "3  BNP_001     22/02/2010          2797862                  1.0          6\n",
       "4  BNP_001     22/02/2010          2797862                  2.0          1"
      ]
     },
     "execution_count": 58,
     "metadata": {},
     "output_type": "execute_result"
    }
   ],
   "source": [
    "dfgroup.head(5)"
   ]
  },
  {
   "cell_type": "code",
   "execution_count": 59,
   "metadata": {},
   "outputs": [],
   "source": [
    "dfgroup.to_excel('ReplicateWithinSite.xlsx')"
   ]
  },
  {
   "cell_type": "code",
   "execution_count": 4,
   "metadata": {},
   "outputs": [],
   "source": [
    "wrongSeries = pd.read_csv('WrongReplicateWithSiteSeries.csv')"
   ]
  },
  {
   "cell_type": "code",
   "execution_count": 5,
   "metadata": {},
   "outputs": [
    {
     "data": {
      "text/html": [
       "<div>\n",
       "<style scoped>\n",
       "    .dataframe tbody tr th:only-of-type {\n",
       "        vertical-align: middle;\n",
       "    }\n",
       "\n",
       "    .dataframe tbody tr th {\n",
       "        vertical-align: top;\n",
       "    }\n",
       "\n",
       "    .dataframe thead th {\n",
       "        text-align: right;\n",
       "    }\n",
       "</style>\n",
       "<table border=\"1\" class=\"dataframe\">\n",
       "  <thead>\n",
       "    <tr style=\"text-align: right;\">\n",
       "      <th></th>\n",
       "      <th>SiteID</th>\n",
       "      <th>EventDateStart</th>\n",
       "      <th>MarineReserveID</th>\n",
       "      <th>ReplicateWithinSite</th>\n",
       "      <th>PotNumber</th>\n",
       "    </tr>\n",
       "  </thead>\n",
       "  <tbody>\n",
       "    <tr>\n",
       "      <th>0</th>\n",
       "      <td>BNP_005</td>\n",
       "      <td>22/02/2010</td>\n",
       "      <td>2797862</td>\n",
       "      <td>4</td>\n",
       "      <td>23.0</td>\n",
       "    </tr>\n",
       "    <tr>\n",
       "      <th>1</th>\n",
       "      <td>BNP_005</td>\n",
       "      <td>22/02/2010</td>\n",
       "      <td>2797862</td>\n",
       "      <td>5</td>\n",
       "      <td>24.0</td>\n",
       "    </tr>\n",
       "    <tr>\n",
       "      <th>2</th>\n",
       "      <td>BNP_005</td>\n",
       "      <td>22/02/2010</td>\n",
       "      <td>2797862</td>\n",
       "      <td>5</td>\n",
       "      <td>24.0</td>\n",
       "    </tr>\n",
       "    <tr>\n",
       "      <th>3</th>\n",
       "      <td>BNP_005</td>\n",
       "      <td>22/02/2010</td>\n",
       "      <td>2797862</td>\n",
       "      <td>5</td>\n",
       "      <td>24.0</td>\n",
       "    </tr>\n",
       "    <tr>\n",
       "      <th>4</th>\n",
       "      <td>BNP_006</td>\n",
       "      <td>4/12/2013</td>\n",
       "      <td>2797862</td>\n",
       "      <td>7</td>\n",
       "      <td>16.0</td>\n",
       "    </tr>\n",
       "  </tbody>\n",
       "</table>\n",
       "</div>"
      ],
      "text/plain": [
       "    SiteID EventDateStart  MarineReserveID  ReplicateWithinSite  PotNumber\n",
       "0  BNP_005     22/02/2010          2797862                    4       23.0\n",
       "1  BNP_005     22/02/2010          2797862                    5       24.0\n",
       "2  BNP_005     22/02/2010          2797862                    5       24.0\n",
       "3  BNP_005     22/02/2010          2797862                    5       24.0\n",
       "4  BNP_006      4/12/2013          2797862                    7       16.0"
      ]
     },
     "execution_count": 5,
     "metadata": {},
     "output_type": "execute_result"
    }
   ],
   "source": [
    "wrongSeries.head()"
   ]
  },
  {
   "cell_type": "code",
   "execution_count": 6,
   "metadata": {},
   "outputs": [],
   "source": [
    "dfwronggroup = wrongSeries.groupby(['SiteID', 'EventDateStart', 'MarineReserveID', 'ReplicateWithinSite']).count().reset_index()"
   ]
  },
  {
   "cell_type": "code",
   "execution_count": 7,
   "metadata": {},
   "outputs": [
    {
     "data": {
      "text/html": [
       "<div>\n",
       "<style scoped>\n",
       "    .dataframe tbody tr th:only-of-type {\n",
       "        vertical-align: middle;\n",
       "    }\n",
       "\n",
       "    .dataframe tbody tr th {\n",
       "        vertical-align: top;\n",
       "    }\n",
       "\n",
       "    .dataframe thead th {\n",
       "        text-align: right;\n",
       "    }\n",
       "</style>\n",
       "<table border=\"1\" class=\"dataframe\">\n",
       "  <thead>\n",
       "    <tr style=\"text-align: right;\">\n",
       "      <th></th>\n",
       "      <th>SiteID</th>\n",
       "      <th>EventDateStart</th>\n",
       "      <th>MarineReserveID</th>\n",
       "      <th>ReplicateWithinSite</th>\n",
       "      <th>PotNumber</th>\n",
       "    </tr>\n",
       "  </thead>\n",
       "  <tbody>\n",
       "    <tr>\n",
       "      <th>0</th>\n",
       "      <td>BNP_005</td>\n",
       "      <td>22/02/2010</td>\n",
       "      <td>2797862</td>\n",
       "      <td>4</td>\n",
       "      <td>1</td>\n",
       "    </tr>\n",
       "    <tr>\n",
       "      <th>1</th>\n",
       "      <td>BNP_005</td>\n",
       "      <td>22/02/2010</td>\n",
       "      <td>2797862</td>\n",
       "      <td>5</td>\n",
       "      <td>3</td>\n",
       "    </tr>\n",
       "    <tr>\n",
       "      <th>2</th>\n",
       "      <td>BNP_006</td>\n",
       "      <td>4/12/2013</td>\n",
       "      <td>2797862</td>\n",
       "      <td>1</td>\n",
       "      <td>8</td>\n",
       "    </tr>\n",
       "    <tr>\n",
       "      <th>3</th>\n",
       "      <td>BNP_006</td>\n",
       "      <td>4/12/2013</td>\n",
       "      <td>2797862</td>\n",
       "      <td>2</td>\n",
       "      <td>5</td>\n",
       "    </tr>\n",
       "    <tr>\n",
       "      <th>4</th>\n",
       "      <td>BNP_006</td>\n",
       "      <td>4/12/2013</td>\n",
       "      <td>2797862</td>\n",
       "      <td>3</td>\n",
       "      <td>6</td>\n",
       "    </tr>\n",
       "  </tbody>\n",
       "</table>\n",
       "</div>"
      ],
      "text/plain": [
       "    SiteID EventDateStart  MarineReserveID  ReplicateWithinSite  PotNumber\n",
       "0  BNP_005     22/02/2010          2797862                    4          1\n",
       "1  BNP_005     22/02/2010          2797862                    5          3\n",
       "2  BNP_006      4/12/2013          2797862                    1          8\n",
       "3  BNP_006      4/12/2013          2797862                    2          5\n",
       "4  BNP_006      4/12/2013          2797862                    3          6"
      ]
     },
     "execution_count": 7,
     "metadata": {},
     "output_type": "execute_result"
    }
   ],
   "source": [
    "dfwronggroup.head()"
   ]
  },
  {
   "cell_type": "code",
   "execution_count": 8,
   "metadata": {},
   "outputs": [],
   "source": [
    "dfwronggroup.to_excel('WrongReplicateWithinSite.xlsx')"
   ]
  },
  {
   "cell_type": "code",
   "execution_count": null,
   "metadata": {},
   "outputs": [],
   "source": []
  }
 ],
 "metadata": {
  "kernelspec": {
   "display_name": "conda_python3",
   "language": "python",
   "name": "conda_python3"
  },
  "language_info": {
   "codemirror_mode": {
    "name": "ipython",
    "version": 3
   },
   "file_extension": ".py",
   "mimetype": "text/x-python",
   "name": "python",
   "nbconvert_exporter": "python",
   "pygments_lexer": "ipython3",
   "version": "3.6.5"
  }
 },
 "nbformat": 4,
 "nbformat_minor": 2
}
