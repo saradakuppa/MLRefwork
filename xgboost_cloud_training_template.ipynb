{
 "cells": [
  {
   "cell_type": "code",
   "execution_count": 217,
   "metadata": {},
   "outputs": [],
   "source": [
    "# Import all the required libraries\n",
    "# Import sagemaker and Boto3 to connect to aws.\n",
    "\n",
    "import numpy as np\n",
    "import pandas as pd\n",
    "\n",
    "# Define IAM role\n",
    "import boto3\n",
    "import re\n",
    "import sagemaker\n",
    "from sagemaker import get_execution_role\n",
    "from sagemaker.amazon.amazon_estimator import get_image_uri\n",
    "# Sagemaker SDK Documnetation https://sagemaker.readthedocs.io/en/stable/estimators.html"
   ]
  },
  {
   "cell_type": "code",
   "execution_count": 218,
   "metadata": {},
   "outputs": [],
   "source": [
    "# Upload data to S3"
   ]
  },
  {
   "cell_type": "code",
   "execution_count": 219,
   "metadata": {},
   "outputs": [],
   "source": [
    "bucket_name = 'sara-ml-sagemaker'\n",
    "training_file_key = 'bikeshare/bikesharing_train.csv'\n",
    "validation_file_key = 'bikeshare/bikesharing_valida.csv'\n",
    "test_file_key = 'bikeshare/bike_test.csv'"
   ]
  },
  {
   "cell_type": "code",
   "execution_count": 220,
   "metadata": {},
   "outputs": [],
   "source": [
    "s3_model_output_location = r's3://{0}/bikeshare/model'.format(bucket_name)\n",
    "s3_training_file_location = r's3://{0}/{1}'.format(bucket_name, training_file_key)\n",
    "s3_validation_file_location = r's3://{0}/{1}'.format(bucket_name, validation_file_key)\n",
    "s3_test_file_location = r's3://{0}/{1}'.format(bucket_name, test_file_key)\n",
    "#s3_test_file_location = r's3://{0}/{1}'.format(bucket_name{0}, test_file_key{1}) replace {0} with bucket name\n",
    "# & {1} with file_key. This is positional arguments as described in \n",
    "#  {0} {1}.format(positional_arguments) , key_words can also be used instead on positional arguments"
   ]
  },
  {
   "cell_type": "code",
   "execution_count": 221,
   "metadata": {},
   "outputs": [
    {
     "data": {
      "text/plain": [
       "('s3://sara-ml-sagemaker/bikeshare/model',\n",
       " 's3://sara-ml-sagemaker/bikeshare/bikesharing_train.csv',\n",
       " 's3://sara-ml-sagemaker/bikeshare/bikesharing_valida.csv',\n",
       " 's3://sara-ml-sagemaker/bikeshare/bike_test.csv')"
      ]
     },
     "execution_count": 221,
     "metadata": {},
     "output_type": "execute_result"
    }
   ],
   "source": [
    "s3_model_output_location, s3_training_file_location, s3_validation_file_location, s3_test_file_location"
   ]
  },
  {
   "cell_type": "code",
   "execution_count": 222,
   "metadata": {},
   "outputs": [],
   "source": [
    "# Writing files to s3\n",
    "# Files are referred to as objects in S3\n",
    "# File name is referred to as key in s3\n",
    "# Files stored in s3 are automatically replicated across 3 availability zones. \n",
    "\n",
    "#https://boto3.amazonaws.com/v1/documentation/api/latest/guide/s3-uploading-files.html\n",
    "\n",
    "def write_to_s3(filename, bucket, key):\n",
    "    with open(filename, 'rb') as f: # read in binary mode\n",
    "        return boto3.Session().resource('s3').Bucket(bucket_name).Object(key).upload_fileobj(f)"
   ]
  },
  {
   "cell_type": "code",
   "execution_count": 223,
   "metadata": {},
   "outputs": [],
   "source": [
    "# All the data in the csv files should be without any headers.\n",
    "# This transformation has been performed in the biketrain_data_prep3 notebook.\n",
    "\n",
    "write_to_s3('bikesharing_train.csv', bucket_name, training_file_key)\n",
    "write_to_s3('bikesharing_valida.csv', bucket_name, validation_file_key)\n",
    "write_to_s3('bike_test.csv', bucket_name, test_file_key)"
   ]
  },
  {
   "cell_type": "markdown",
   "metadata": {},
   "source": [
    "Training Algorithm Docker Image\n",
    "\n",
    "AWS Maintains a separate registry for every region and algorithm "
   ]
  },
  {
   "cell_type": "code",
   "execution_count": 224,
   "metadata": {},
   "outputs": [],
   "source": [
    "# Registry path for algorithms provided by sagemaker. \n",
    "# https://docs.aws.amazon.com/sagemaker/latest/dg/sagemaker-algo-docker-registry-paths.html\n",
    "\n",
    "# Create a dictionary mapping the region to the container path.\n",
    "# repo_version lets you specify the version of the model you want to use. Specify'latest' to use newest version. \n",
    "# If repo_version is not specified then the version will default to 1. \n",
    "\n",
    "container = get_image_uri(boto3.Session().region_name, 'xgboost', repo_version=\"latest\")"
   ]
  },
  {
   "cell_type": "code",
   "execution_count": 225,
   "metadata": {},
   "outputs": [
    {
     "data": {
      "text/plain": [
       "'811284229777.dkr.ecr.us-east-1.amazonaws.com/xgboost:latest'"
      ]
     },
     "execution_count": 225,
     "metadata": {},
     "output_type": "execute_result"
    }
   ],
   "source": [
    "container"
   ]
  },
  {
   "cell_type": "code",
   "execution_count": 226,
   "metadata": {},
   "outputs": [],
   "source": [
    "role = get_execution_role()"
   ]
  },
  {
   "cell_type": "code",
   "execution_count": 227,
   "metadata": {},
   "outputs": [
    {
     "data": {
      "text/plain": [
       "'arn:aws:iam::252379044400:role/service-role/AmazonSageMaker-ExecutionRole-20190219T163658'"
      ]
     },
     "execution_count": 227,
     "metadata": {},
     "output_type": "execute_result"
    }
   ],
   "source": [
    "# The role contains the permissions to train and deplay the model\n",
    "# Sagemaker service will be assuming this role. \n",
    "role"
   ]
  },
  {
   "cell_type": "markdown",
   "metadata": {},
   "source": [
    "Build Model"
   ]
  },
  {
   "cell_type": "code",
   "execution_count": 228,
   "metadata": {},
   "outputs": [],
   "source": [
    "# Configure the training job\n",
    "# To train we first need to establish a sagemaker session. \n",
    "\n",
    "session = sagemaker.Session()"
   ]
  },
  {
   "cell_type": "code",
   "execution_count": 229,
   "metadata": {},
   "outputs": [],
   "source": [
    "# Access appropriate algorithm container image\n",
    "# Specify how many instances to use for distributed training and what type of machine ot use. \n",
    "# Finally specify where the trained model artifacts need to be stored. \n",
    "# Optinal, give a name to the training job using base_job_name\n",
    "\n",
    "# https://sagemaker.readthedocs.io/en/stable/estimators.html\n",
    "\n",
    "estimator = sagemaker.estimator.Estimator(container, # Retrive tyhe container path based on where the code is running. \n",
    "                                         role, # Pass the role that the model can asssume to access data files\n",
    "                                         train_instance_count = 1, # Training is carried ou on single compute instance\n",
    "                                         train_instance_type = 'ml.m4.xlarge', # Training is carried out on the instance type\n",
    "                                         output_path = s3_model_output_location, # Model is saved to output location\n",
    "                                         sagemaker_session = session, # we also need to declare the sagemaker session details\n",
    "                                         base_job_name = 'xgboost-bikeshare-v1')# we can also give a name to the training job"
   ]
  },
  {
   "cell_type": "code",
   "execution_count": 230,
   "metadata": {},
   "outputs": [],
   "source": [
    "# Specify hyperparameters that are appropriate for the training job. \n",
    "# https://xgboost.readthedocs.io/en/latest/parameter.html\n",
    "\n",
    "# max_depth=5, eta=0.1, subsample=0.7, num_round=150\n",
    "\n",
    "estimator.set_hyperparameters(max_depth=5, objective=\"reg:linear\", \n",
    "                              eta=0.1, subsample=0.7, num_round=150)"
   ]
  },
  {
   "cell_type": "code",
   "execution_count": 231,
   "metadata": {},
   "outputs": [
    {
     "data": {
      "text/plain": [
       "{'max_depth': 5,\n",
       " 'objective': 'reg:linear',\n",
       " 'eta': 0.1,\n",
       " 'subsample': 0.7,\n",
       " 'num_round': 150}"
      ]
     },
     "execution_count": 231,
     "metadata": {},
     "output_type": "execute_result"
    }
   ],
   "source": [
    "estimator.hyperparameters()"
   ]
  },
  {
   "cell_type": "markdown",
   "metadata": {},
   "source": [
    "Specify training data location and validation data location "
   ]
  },
  {
   "cell_type": "code",
   "execution_count": 232,
   "metadata": {},
   "outputs": [],
   "source": [
    "# Training and validation file location need to specified using the s3 input config class\n",
    "\n",
    "training_input_config = sagemaker.session.s3_input(s3_data=s3_training_file_location, content_type=\"csv\")\n",
    "validation_input_config = sagemaker.session.s3_input(s3_data=s3_validation_file_location, content_type=\"csv\")"
   ]
  },
  {
   "cell_type": "code",
   "execution_count": 233,
   "metadata": {},
   "outputs": [
    {
     "data": {
      "text/plain": [
       "({'DataSource': {'S3DataSource': {'S3DataDistributionType': 'FullyReplicated',\n",
       "    'S3DataType': 'S3Prefix',\n",
       "    'S3Uri': 's3://sara-ml-sagemaker/bikeshare/bikesharing_train.csv'}},\n",
       "  'ContentType': 'csv'},\n",
       " {'DataSource': {'S3DataSource': {'S3DataDistributionType': 'FullyReplicated',\n",
       "    'S3DataType': 'S3Prefix',\n",
       "    'S3Uri': 's3://sara-ml-sagemaker/bikeshare/bikesharing_valida.csv'}},\n",
       "  'ContentType': 'csv'})"
      ]
     },
     "execution_count": 233,
     "metadata": {},
     "output_type": "execute_result"
    }
   ],
   "source": [
    "training_input_config.config, validation_input_config.config"
   ]
  },
  {
   "cell_type": "markdown",
   "metadata": {},
   "source": [
    "Train the Model "
   ]
  },
  {
   "cell_type": "code",
   "execution_count": 234,
   "metadata": {},
   "outputs": [
    {
     "name": "stdout",
     "output_type": "stream",
     "text": [
      "2019-06-13 02:02:30 Starting - Starting the training job.........\n",
      "2019-06-13 02:03:31 Starting - Launching requested ML instances......\n",
      "2019-06-13 02:04:39 Starting - Preparing the instances for training......\n",
      "2019-06-13 02:05:50 Downloading - Downloading input data...\n",
      "2019-06-13 02:06:29 Training - Training image download completed. Training in progress..\n",
      "\u001b[31mArguments: train\u001b[0m\n",
      "\u001b[31m[2019-06-13:02:06:30:INFO] Running standalone xgboost training.\u001b[0m\n",
      "\u001b[31m[2019-06-13:02:06:30:INFO] File size need to be processed in the node: 0.63mb. Available memory size in the node: 8421.62mb\u001b[0m\n",
      "\u001b[31m[2019-06-13:02:06:30:INFO] Determined delimiter of CSV input is ','\u001b[0m\n",
      "\u001b[31m[02:06:30] S3DistributionType set as FullyReplicated\u001b[0m\n",
      "\u001b[31m[02:06:30] 7620x13 matrix with 99060 entries loaded from /opt/ml/input/data/train?format=csv&label_column=0&delimiter=,\u001b[0m\n",
      "\u001b[31m[2019-06-13:02:06:30:INFO] Determined delimiter of CSV input is ','\u001b[0m\n",
      "\u001b[31m[02:06:30] S3DistributionType set as FullyReplicated\u001b[0m\n",
      "\u001b[31m[02:06:30] 3265x13 matrix with 42445 entries loaded from /opt/ml/input/data/validation?format=csv&label_column=0&delimiter=,\u001b[0m\n",
      "\u001b[31m[02:06:30] src/tree/updater_prune.cc:74: tree pruning end, 1 roots, 46 extra nodes, 0 pruned nodes, max_depth=5\u001b[0m\n",
      "\u001b[31m[0]#011train-rmse:3.90445#011validation-rmse:3.8816\u001b[0m\n",
      "\u001b[31m[02:06:30] src/tree/updater_prune.cc:74: tree pruning end, 1 roots, 52 extra nodes, 0 pruned nodes, max_depth=5\u001b[0m\n",
      "\u001b[31m[1]#011train-rmse:3.52547#011validation-rmse:3.50508\u001b[0m\n",
      "\u001b[31m[02:06:30] src/tree/updater_prune.cc:74: tree pruning end, 1 roots, 52 extra nodes, 0 pruned nodes, max_depth=5\u001b[0m\n",
      "\u001b[31m[2]#011train-rmse:3.18399#011validation-rmse:3.16543\u001b[0m\n",
      "\u001b[31m[02:06:30] src/tree/updater_prune.cc:74: tree pruning end, 1 roots, 52 extra nodes, 0 pruned nodes, max_depth=5\u001b[0m\n",
      "\u001b[31m[3]#011train-rmse:2.87796#011validation-rmse:2.86093\u001b[0m\n",
      "\u001b[31m[02:06:30] src/tree/updater_prune.cc:74: tree pruning end, 1 roots, 58 extra nodes, 0 pruned nodes, max_depth=5\u001b[0m\n",
      "\u001b[31m[4]#011train-rmse:2.60171#011validation-rmse:2.58624\u001b[0m\n",
      "\u001b[31m[02:06:30] src/tree/updater_prune.cc:74: tree pruning end, 1 roots, 58 extra nodes, 0 pruned nodes, max_depth=5\u001b[0m\n",
      "\u001b[31m[5]#011train-rmse:2.35472#011validation-rmse:2.34064\u001b[0m\n",
      "\u001b[31m[02:06:30] src/tree/updater_prune.cc:74: tree pruning end, 1 roots, 58 extra nodes, 0 pruned nodes, max_depth=5\u001b[0m\n",
      "\u001b[31m[6]#011train-rmse:2.13368#011validation-rmse:2.12101\u001b[0m\n",
      "\u001b[31m[02:06:30] src/tree/updater_prune.cc:74: tree pruning end, 1 roots, 58 extra nodes, 0 pruned nodes, max_depth=5\u001b[0m\n",
      "\u001b[31m[7]#011train-rmse:1.93473#011validation-rmse:1.92282\u001b[0m\n",
      "\u001b[31m[02:06:30] src/tree/updater_prune.cc:74: tree pruning end, 1 roots, 60 extra nodes, 0 pruned nodes, max_depth=5\u001b[0m\n",
      "\u001b[31m[8]#011train-rmse:1.75547#011validation-rmse:1.74497\u001b[0m\n",
      "\u001b[31m[02:06:30] src/tree/updater_prune.cc:74: tree pruning end, 1 roots, 60 extra nodes, 0 pruned nodes, max_depth=5\u001b[0m\n",
      "\u001b[31m[9]#011train-rmse:1.59599#011validation-rmse:1.58654\u001b[0m\n",
      "\u001b[31m[02:06:30] src/tree/updater_prune.cc:74: tree pruning end, 1 roots, 62 extra nodes, 0 pruned nodes, max_depth=5\u001b[0m\n",
      "\u001b[31m[10]#011train-rmse:1.45328#011validation-rmse:1.44451\u001b[0m\n",
      "\u001b[31m[02:06:30] src/tree/updater_prune.cc:74: tree pruning end, 1 roots, 62 extra nodes, 0 pruned nodes, max_depth=5\u001b[0m\n",
      "\u001b[31m[11]#011train-rmse:1.32584#011validation-rmse:1.3184\u001b[0m\n",
      "\u001b[31m[02:06:30] src/tree/updater_prune.cc:74: tree pruning end, 1 roots, 62 extra nodes, 0 pruned nodes, max_depth=5\u001b[0m\n",
      "\u001b[31m[12]#011train-rmse:1.21226#011validation-rmse:1.20549\u001b[0m\n",
      "\u001b[31m[02:06:30] src/tree/updater_prune.cc:74: tree pruning end, 1 roots, 62 extra nodes, 0 pruned nodes, max_depth=5\u001b[0m\n",
      "\u001b[31m[13]#011train-rmse:1.10865#011validation-rmse:1.1023\u001b[0m\n",
      "\u001b[31m[02:06:30] src/tree/updater_prune.cc:74: tree pruning end, 1 roots, 58 extra nodes, 0 pruned nodes, max_depth=5\u001b[0m\n",
      "\u001b[31m[14]#011train-rmse:1.01882#011validation-rmse:1.01324\u001b[0m\n",
      "\u001b[31m[02:06:30] src/tree/updater_prune.cc:74: tree pruning end, 1 roots, 62 extra nodes, 0 pruned nodes, max_depth=5\u001b[0m\n",
      "\u001b[31m[15]#011train-rmse:0.937532#011validation-rmse:0.932646\u001b[0m\n",
      "\u001b[31m[02:06:30] src/tree/updater_prune.cc:74: tree pruning end, 1 roots, 60 extra nodes, 0 pruned nodes, max_depth=5\u001b[0m\n",
      "\u001b[31m[16]#011train-rmse:0.865554#011validation-rmse:0.861287\u001b[0m\n",
      "\u001b[31m[02:06:30] src/tree/updater_prune.cc:74: tree pruning end, 1 roots, 62 extra nodes, 0 pruned nodes, max_depth=5\u001b[0m\n",
      "\u001b[31m[17]#011train-rmse:0.797962#011validation-rmse:0.793828\u001b[0m\n",
      "\u001b[31m[02:06:30] src/tree/updater_prune.cc:74: tree pruning end, 1 roots, 62 extra nodes, 0 pruned nodes, max_depth=5\u001b[0m\n",
      "\u001b[31m[18]#011train-rmse:0.740072#011validation-rmse:0.73665\u001b[0m\n",
      "\u001b[31m[02:06:30] src/tree/updater_prune.cc:74: tree pruning end, 1 roots, 62 extra nodes, 0 pruned nodes, max_depth=5\u001b[0m\n",
      "\u001b[31m[19]#011train-rmse:0.691263#011validation-rmse:0.688644\u001b[0m\n",
      "\u001b[31m[02:06:30] src/tree/updater_prune.cc:74: tree pruning end, 1 roots, 62 extra nodes, 0 pruned nodes, max_depth=5\u001b[0m\n",
      "\u001b[31m[20]#011train-rmse:0.648015#011validation-rmse:0.64593\u001b[0m\n",
      "\u001b[31m[02:06:30] src/tree/updater_prune.cc:74: tree pruning end, 1 roots, 62 extra nodes, 0 pruned nodes, max_depth=5\u001b[0m\n",
      "\u001b[31m[21]#011train-rmse:0.605012#011validation-rmse:0.603741\u001b[0m\n",
      "\u001b[31m[02:06:30] src/tree/updater_prune.cc:74: tree pruning end, 1 roots, 60 extra nodes, 0 pruned nodes, max_depth=5\u001b[0m\n",
      "\u001b[31m[22]#011train-rmse:0.57197#011validation-rmse:0.571239\u001b[0m\n",
      "\u001b[31m[02:06:30] src/tree/updater_prune.cc:74: tree pruning end, 1 roots, 62 extra nodes, 0 pruned nodes, max_depth=5\u001b[0m\n",
      "\u001b[31m[23]#011train-rmse:0.542036#011validation-rmse:0.541715\u001b[0m\n",
      "\u001b[31m[02:06:30] src/tree/updater_prune.cc:74: tree pruning end, 1 roots, 56 extra nodes, 0 pruned nodes, max_depth=5\u001b[0m\n",
      "\u001b[31m[24]#011train-rmse:0.512093#011validation-rmse:0.511957\u001b[0m\n",
      "\u001b[31m[02:06:30] src/tree/updater_prune.cc:74: tree pruning end, 1 roots, 60 extra nodes, 0 pruned nodes, max_depth=5\u001b[0m\n",
      "\u001b[31m[25]#011train-rmse:0.489727#011validation-rmse:0.489931\u001b[0m\n",
      "\u001b[31m[02:06:30] src/tree/updater_prune.cc:74: tree pruning end, 1 roots, 62 extra nodes, 0 pruned nodes, max_depth=5\u001b[0m\n",
      "\u001b[31m[26]#011train-rmse:0.470411#011validation-rmse:0.471329\u001b[0m\n",
      "\u001b[31m[02:06:30] src/tree/updater_prune.cc:74: tree pruning end, 1 roots, 62 extra nodes, 0 pruned nodes, max_depth=5\u001b[0m\n",
      "\u001b[31m[27]#011train-rmse:0.454039#011validation-rmse:0.455034\u001b[0m\n",
      "\u001b[31m[02:06:30] src/tree/updater_prune.cc:74: tree pruning end, 1 roots, 60 extra nodes, 0 pruned nodes, max_depth=5\u001b[0m\n",
      "\u001b[31m[28]#011train-rmse:0.438502#011validation-rmse:0.439853\u001b[0m\n",
      "\u001b[31m[02:06:30] src/tree/updater_prune.cc:74: tree pruning end, 1 roots, 54 extra nodes, 0 pruned nodes, max_depth=5\u001b[0m\n",
      "\u001b[31m[29]#011train-rmse:0.422503#011validation-rmse:0.424048\u001b[0m\n",
      "\u001b[31m[02:06:30] src/tree/updater_prune.cc:74: tree pruning end, 1 roots, 62 extra nodes, 0 pruned nodes, max_depth=5\u001b[0m\n",
      "\u001b[31m[30]#011train-rmse:0.411164#011validation-rmse:0.412914\u001b[0m\n",
      "\u001b[31m[02:06:30] src/tree/updater_prune.cc:74: tree pruning end, 1 roots, 62 extra nodes, 0 pruned nodes, max_depth=5\u001b[0m\n",
      "\u001b[31m[31]#011train-rmse:0.397262#011validation-rmse:0.399293\u001b[0m\n",
      "\u001b[31m[02:06:30] src/tree/updater_prune.cc:74: tree pruning end, 1 roots, 58 extra nodes, 0 pruned nodes, max_depth=5\u001b[0m\n",
      "\u001b[31m[32]#011train-rmse:0.385211#011validation-rmse:0.387543\u001b[0m\n",
      "\u001b[31m[02:06:30] src/tree/updater_prune.cc:74: tree pruning end, 1 roots, 62 extra nodes, 0 pruned nodes, max_depth=5\u001b[0m\n",
      "\u001b[31m[33]#011train-rmse:0.377093#011validation-rmse:0.379705\u001b[0m\n",
      "\u001b[31m[02:06:30] src/tree/updater_prune.cc:74: tree pruning end, 1 roots, 62 extra nodes, 0 pruned nodes, max_depth=5\u001b[0m\n",
      "\u001b[31m[34]#011train-rmse:0.370307#011validation-rmse:0.373224\u001b[0m\n",
      "\u001b[31m[02:06:30] src/tree/updater_prune.cc:74: tree pruning end, 1 roots, 62 extra nodes, 0 pruned nodes, max_depth=5\u001b[0m\n",
      "\u001b[31m[35]#011train-rmse:0.364978#011validation-rmse:0.368005\u001b[0m\n",
      "\u001b[31m[02:06:30] src/tree/updater_prune.cc:74: tree pruning end, 1 roots, 62 extra nodes, 0 pruned nodes, max_depth=5\u001b[0m\n",
      "\u001b[31m[36]#011train-rmse:0.359272#011validation-rmse:0.362157\u001b[0m\n",
      "\u001b[31m[02:06:30] src/tree/updater_prune.cc:74: tree pruning end, 1 roots, 62 extra nodes, 0 pruned nodes, max_depth=5\u001b[0m\n",
      "\u001b[31m[37]#011train-rmse:0.353979#011validation-rmse:0.356867\u001b[0m\n",
      "\u001b[31m[02:06:30] src/tree/updater_prune.cc:74: tree pruning end, 1 roots, 62 extra nodes, 0 pruned nodes, max_depth=5\u001b[0m\n",
      "\u001b[31m[38]#011train-rmse:0.345467#011validation-rmse:0.348112\u001b[0m\n",
      "\u001b[31m[02:06:30] src/tree/updater_prune.cc:74: tree pruning end, 1 roots, 62 extra nodes, 0 pruned nodes, max_depth=5\u001b[0m\n",
      "\u001b[31m[39]#011train-rmse:0.341696#011validation-rmse:0.344406\u001b[0m\n",
      "\u001b[31m[02:06:30] src/tree/updater_prune.cc:74: tree pruning end, 1 roots, 58 extra nodes, 0 pruned nodes, max_depth=5\u001b[0m\n",
      "\u001b[31m[40]#011train-rmse:0.337369#011validation-rmse:0.340023\u001b[0m\n",
      "\u001b[31m[02:06:30] src/tree/updater_prune.cc:74: tree pruning end, 1 roots, 62 extra nodes, 0 pruned nodes, max_depth=5\u001b[0m\n",
      "\u001b[31m[41]#011train-rmse:0.334552#011validation-rmse:0.337257\u001b[0m\n",
      "\u001b[31m[02:06:30] src/tree/updater_prune.cc:74: tree pruning end, 1 roots, 58 extra nodes, 0 pruned nodes, max_depth=5\u001b[0m\n",
      "\u001b[31m[42]#011train-rmse:0.330933#011validation-rmse:0.333708\u001b[0m\n",
      "\u001b[31m[02:06:30] src/tree/updater_prune.cc:74: tree pruning end, 1 roots, 62 extra nodes, 0 pruned nodes, max_depth=5\u001b[0m\n",
      "\u001b[31m[43]#011train-rmse:0.328646#011validation-rmse:0.331264\u001b[0m\n",
      "\u001b[31m[02:06:30] src/tree/updater_prune.cc:74: tree pruning end, 1 roots, 62 extra nodes, 0 pruned nodes, max_depth=5\u001b[0m\n",
      "\u001b[31m[44]#011train-rmse:0.32573#011validation-rmse:0.328226\u001b[0m\n",
      "\u001b[31m[02:06:30] src/tree/updater_prune.cc:74: tree pruning end, 1 roots, 60 extra nodes, 0 pruned nodes, max_depth=5\u001b[0m\n",
      "\u001b[31m[45]#011train-rmse:0.322997#011validation-rmse:0.325383\u001b[0m\n",
      "\u001b[31m[02:06:30] src/tree/updater_prune.cc:74: tree pruning end, 1 roots, 62 extra nodes, 0 pruned nodes, max_depth=5\u001b[0m\n",
      "\u001b[31m[46]#011train-rmse:0.321191#011validation-rmse:0.323542\u001b[0m\n",
      "\u001b[31m[02:06:30] src/tree/updater_prune.cc:74: tree pruning end, 1 roots, 60 extra nodes, 0 pruned nodes, max_depth=5\u001b[0m\n",
      "\u001b[31m[47]#011train-rmse:0.319175#011validation-rmse:0.321392\u001b[0m\n",
      "\u001b[31m[02:06:30] src/tree/updater_prune.cc:74: tree pruning end, 1 roots, 62 extra nodes, 0 pruned nodes, max_depth=5\u001b[0m\n",
      "\u001b[31m[48]#011train-rmse:0.316249#011validation-rmse:0.318479\u001b[0m\n",
      "\u001b[31m[02:06:30] src/tree/updater_prune.cc:74: tree pruning end, 1 roots, 62 extra nodes, 0 pruned nodes, max_depth=5\u001b[0m\n",
      "\u001b[31m[49]#011train-rmse:0.314438#011validation-rmse:0.316432\u001b[0m\n",
      "\u001b[31m[02:06:30] src/tree/updater_prune.cc:74: tree pruning end, 1 roots, 60 extra nodes, 0 pruned nodes, max_depth=5\u001b[0m\n",
      "\u001b[31m[50]#011train-rmse:0.313267#011validation-rmse:0.315206\u001b[0m\n",
      "\u001b[31m[02:06:30] src/tree/updater_prune.cc:74: tree pruning end, 1 roots, 62 extra nodes, 0 pruned nodes, max_depth=5\u001b[0m\n",
      "\u001b[31m[51]#011train-rmse:0.306874#011validation-rmse:0.308821\u001b[0m\n",
      "\u001b[31m[02:06:30] src/tree/updater_prune.cc:74: tree pruning end, 1 roots, 62 extra nodes, 0 pruned nodes, max_depth=5\u001b[0m\n",
      "\u001b[31m[52]#011train-rmse:0.304926#011validation-rmse:0.307003\u001b[0m\n",
      "\u001b[31m[02:06:30] src/tree/updater_prune.cc:74: tree pruning end, 1 roots, 62 extra nodes, 0 pruned nodes, max_depth=5\u001b[0m\n",
      "\u001b[31m[53]#011train-rmse:0.30117#011validation-rmse:0.30308\u001b[0m\n",
      "\u001b[31m[02:06:30] src/tree/updater_prune.cc:74: tree pruning end, 1 roots, 50 extra nodes, 0 pruned nodes, max_depth=5\u001b[0m\n",
      "\u001b[31m[54]#011train-rmse:0.300498#011validation-rmse:0.302548\u001b[0m\n",
      "\u001b[31m[02:06:30] src/tree/updater_prune.cc:74: tree pruning end, 1 roots, 58 extra nodes, 0 pruned nodes, max_depth=5\u001b[0m\n",
      "\u001b[31m[55]#011train-rmse:0.299542#011validation-rmse:0.301636\u001b[0m\n",
      "\u001b[31m[02:06:30] src/tree/updater_prune.cc:74: tree pruning end, 1 roots, 56 extra nodes, 0 pruned nodes, max_depth=5\u001b[0m\n",
      "\u001b[31m[56]#011train-rmse:0.297559#011validation-rmse:0.299805\u001b[0m\n",
      "\u001b[31m[02:06:30] src/tree/updater_prune.cc:74: tree pruning end, 1 roots, 62 extra nodes, 0 pruned nodes, max_depth=5\u001b[0m\n",
      "\u001b[31m[57]#011train-rmse:0.296409#011validation-rmse:0.298701\u001b[0m\n",
      "\u001b[31m[02:06:30] src/tree/updater_prune.cc:74: tree pruning end, 1 roots, 62 extra nodes, 0 pruned nodes, max_depth=5\u001b[0m\n",
      "\u001b[31m[58]#011train-rmse:0.295179#011validation-rmse:0.297463\u001b[0m\n",
      "\u001b[31m[02:06:30] src/tree/updater_prune.cc:74: tree pruning end, 1 roots, 62 extra nodes, 0 pruned nodes, max_depth=5\u001b[0m\n",
      "\u001b[31m[59]#011train-rmse:0.294155#011validation-rmse:0.296291\u001b[0m\n",
      "\u001b[31m[02:06:30] src/tree/updater_prune.cc:74: tree pruning end, 1 roots, 60 extra nodes, 0 pruned nodes, max_depth=5\u001b[0m\n",
      "\u001b[31m[60]#011train-rmse:0.293289#011validation-rmse:0.295342\u001b[0m\n",
      "\u001b[31m[02:06:30] src/tree/updater_prune.cc:74: tree pruning end, 1 roots, 62 extra nodes, 0 pruned nodes, max_depth=5\u001b[0m\n",
      "\u001b[31m[61]#011train-rmse:0.29015#011validation-rmse:0.292141\u001b[0m\n",
      "\u001b[31m[02:06:30] src/tree/updater_prune.cc:74: tree pruning end, 1 roots, 60 extra nodes, 0 pruned nodes, max_depth=5\u001b[0m\n",
      "\u001b[31m[62]#011train-rmse:0.288623#011validation-rmse:0.290669\u001b[0m\n",
      "\u001b[31m[02:06:30] src/tree/updater_prune.cc:74: tree pruning end, 1 roots, 60 extra nodes, 0 pruned nodes, max_depth=5\u001b[0m\n",
      "\u001b[31m[63]#011train-rmse:0.286292#011validation-rmse:0.288148\u001b[0m\n",
      "\u001b[31m[02:06:30] src/tree/updater_prune.cc:74: tree pruning end, 1 roots, 56 extra nodes, 0 pruned nodes, max_depth=5\u001b[0m\n",
      "\u001b[31m[64]#011train-rmse:0.285643#011validation-rmse:0.287544\u001b[0m\n",
      "\u001b[31m[02:06:30] src/tree/updater_prune.cc:74: tree pruning end, 1 roots, 58 extra nodes, 0 pruned nodes, max_depth=5\u001b[0m\n",
      "\u001b[31m[65]#011train-rmse:0.285051#011validation-rmse:0.286673\u001b[0m\n",
      "\u001b[31m[02:06:30] src/tree/updater_prune.cc:74: tree pruning end, 1 roots, 60 extra nodes, 0 pruned nodes, max_depth=5\u001b[0m\n",
      "\u001b[31m[66]#011train-rmse:0.283608#011validation-rmse:0.285261\u001b[0m\n",
      "\u001b[31m[02:06:30] src/tree/updater_prune.cc:74: tree pruning end, 1 roots, 58 extra nodes, 0 pruned nodes, max_depth=5\u001b[0m\n",
      "\u001b[31m[67]#011train-rmse:0.282853#011validation-rmse:0.284586\u001b[0m\n",
      "\u001b[31m[02:06:30] src/tree/updater_prune.cc:74: tree pruning end, 1 roots, 62 extra nodes, 0 pruned nodes, max_depth=5\u001b[0m\n",
      "\u001b[31m[68]#011train-rmse:0.281553#011validation-rmse:0.283281\u001b[0m\n",
      "\u001b[31m[02:06:30] src/tree/updater_prune.cc:74: tree pruning end, 1 roots, 62 extra nodes, 0 pruned nodes, max_depth=5\u001b[0m\n",
      "\u001b[31m[69]#011train-rmse:0.280627#011validation-rmse:0.282404\u001b[0m\n",
      "\u001b[31m[02:06:30] src/tree/updater_prune.cc:74: tree pruning end, 1 roots, 62 extra nodes, 0 pruned nodes, max_depth=5\u001b[0m\n",
      "\u001b[31m[70]#011train-rmse:0.278471#011validation-rmse:0.280201\u001b[0m\n",
      "\u001b[31m[02:06:30] src/tree/updater_prune.cc:74: tree pruning end, 1 roots, 62 extra nodes, 0 pruned nodes, max_depth=5\u001b[0m\n",
      "\u001b[31m[71]#011train-rmse:0.275729#011validation-rmse:0.277438\u001b[0m\n",
      "\u001b[31m[02:06:30] src/tree/updater_prune.cc:74: tree pruning end, 1 roots, 62 extra nodes, 0 pruned nodes, max_depth=5\u001b[0m\n",
      "\u001b[31m[72]#011train-rmse:0.274911#011validation-rmse:0.276621\u001b[0m\n",
      "\u001b[31m[02:06:30] src/tree/updater_prune.cc:74: tree pruning end, 1 roots, 62 extra nodes, 0 pruned nodes, max_depth=5\u001b[0m\n",
      "\u001b[31m[73]#011train-rmse:0.274092#011validation-rmse:0.275766\u001b[0m\n",
      "\u001b[31m[02:06:30] src/tree/updater_prune.cc:74: tree pruning end, 1 roots, 60 extra nodes, 0 pruned nodes, max_depth=5\u001b[0m\n",
      "\u001b[31m[74]#011train-rmse:0.273162#011validation-rmse:0.274915\u001b[0m\n",
      "\u001b[31m[02:06:30] src/tree/updater_prune.cc:74: tree pruning end, 1 roots, 60 extra nodes, 0 pruned nodes, max_depth=5\u001b[0m\n",
      "\u001b[31m[75]#011train-rmse:0.271869#011validation-rmse:0.273627\u001b[0m\n",
      "\u001b[31m[02:06:30] src/tree/updater_prune.cc:74: tree pruning end, 1 roots, 60 extra nodes, 0 pruned nodes, max_depth=5\u001b[0m\n",
      "\u001b[31m[76]#011train-rmse:0.270911#011validation-rmse:0.272835\u001b[0m\n",
      "\u001b[31m[02:06:30] src/tree/updater_prune.cc:74: tree pruning end, 1 roots, 62 extra nodes, 0 pruned nodes, max_depth=5\u001b[0m\n",
      "\u001b[31m[77]#011train-rmse:0.269633#011validation-rmse:0.271578\u001b[0m\n",
      "\u001b[31m[02:06:30] src/tree/updater_prune.cc:74: tree pruning end, 1 roots, 62 extra nodes, 0 pruned nodes, max_depth=5\u001b[0m\n",
      "\u001b[31m[78]#011train-rmse:0.268035#011validation-rmse:0.26985\u001b[0m\n",
      "\u001b[31m[02:06:30] src/tree/updater_prune.cc:74: tree pruning end, 1 roots, 56 extra nodes, 0 pruned nodes, max_depth=5\u001b[0m\n",
      "\u001b[31m[79]#011train-rmse:0.267386#011validation-rmse:0.269216\u001b[0m\n",
      "\u001b[31m[02:06:30] src/tree/updater_prune.cc:74: tree pruning end, 1 roots, 62 extra nodes, 0 pruned nodes, max_depth=5\u001b[0m\n",
      "\u001b[31m[80]#011train-rmse:0.26592#011validation-rmse:0.26781\u001b[0m\n",
      "\u001b[31m[02:06:30] src/tree/updater_prune.cc:74: tree pruning end, 1 roots, 46 extra nodes, 0 pruned nodes, max_depth=5\u001b[0m\n",
      "\u001b[31m[81]#011train-rmse:0.265497#011validation-rmse:0.267259\u001b[0m\n",
      "\u001b[31m[02:06:30] src/tree/updater_prune.cc:74: tree pruning end, 1 roots, 60 extra nodes, 0 pruned nodes, max_depth=5\u001b[0m\n",
      "\u001b[31m[82]#011train-rmse:0.265043#011validation-rmse:0.266699\u001b[0m\n",
      "\u001b[31m[02:06:30] src/tree/updater_prune.cc:74: tree pruning end, 1 roots, 62 extra nodes, 0 pruned nodes, max_depth=5\u001b[0m\n",
      "\u001b[31m[83]#011train-rmse:0.26427#011validation-rmse:0.265931\u001b[0m\n",
      "\u001b[31m[02:06:30] src/tree/updater_prune.cc:74: tree pruning end, 1 roots, 60 extra nodes, 0 pruned nodes, max_depth=5\u001b[0m\n",
      "\u001b[31m[84]#011train-rmse:0.263746#011validation-rmse:0.26538\u001b[0m\n",
      "\u001b[31m[02:06:30] src/tree/updater_prune.cc:74: tree pruning end, 1 roots, 50 extra nodes, 0 pruned nodes, max_depth=5\u001b[0m\n",
      "\u001b[31m[85]#011train-rmse:0.263267#011validation-rmse:0.264902\u001b[0m\n",
      "\u001b[31m[02:06:30] src/tree/updater_prune.cc:74: tree pruning end, 1 roots, 62 extra nodes, 0 pruned nodes, max_depth=5\u001b[0m\n",
      "\u001b[31m[86]#011train-rmse:0.262649#011validation-rmse:0.264241\u001b[0m\n",
      "\u001b[31m[02:06:30] src/tree/updater_prune.cc:74: tree pruning end, 1 roots, 62 extra nodes, 0 pruned nodes, max_depth=5\u001b[0m\n",
      "\u001b[31m[87]#011train-rmse:0.262054#011validation-rmse:0.263579\u001b[0m\n",
      "\u001b[31m[02:06:30] src/tree/updater_prune.cc:74: tree pruning end, 1 roots, 62 extra nodes, 0 pruned nodes, max_depth=5\u001b[0m\n",
      "\u001b[31m[88]#011train-rmse:0.261141#011validation-rmse:0.262764\u001b[0m\n",
      "\u001b[31m[02:06:30] src/tree/updater_prune.cc:74: tree pruning end, 1 roots, 60 extra nodes, 0 pruned nodes, max_depth=5\u001b[0m\n",
      "\u001b[31m[89]#011train-rmse:0.260455#011validation-rmse:0.262032\u001b[0m\n",
      "\u001b[31m[02:06:30] src/tree/updater_prune.cc:74: tree pruning end, 1 roots, 62 extra nodes, 0 pruned nodes, max_depth=5\u001b[0m\n",
      "\u001b[31m[90]#011train-rmse:0.259288#011validation-rmse:0.260831\u001b[0m\n",
      "\u001b[31m[02:06:30] src/tree/updater_prune.cc:74: tree pruning end, 1 roots, 62 extra nodes, 0 pruned nodes, max_depth=5\u001b[0m\n",
      "\u001b[31m[91]#011train-rmse:0.25796#011validation-rmse:0.259404\u001b[0m\n",
      "\u001b[31m[02:06:30] src/tree/updater_prune.cc:74: tree pruning end, 1 roots, 62 extra nodes, 0 pruned nodes, max_depth=5\u001b[0m\n",
      "\u001b[31m[92]#011train-rmse:0.257185#011validation-rmse:0.258474\u001b[0m\n",
      "\u001b[31m[02:06:30] src/tree/updater_prune.cc:74: tree pruning end, 1 roots, 60 extra nodes, 0 pruned nodes, max_depth=5\u001b[0m\n",
      "\u001b[31m[93]#011train-rmse:0.256681#011validation-rmse:0.25807\u001b[0m\n",
      "\u001b[31m[02:06:30] src/tree/updater_prune.cc:74: tree pruning end, 1 roots, 62 extra nodes, 0 pruned nodes, max_depth=5\u001b[0m\n",
      "\u001b[31m[94]#011train-rmse:0.255697#011validation-rmse:0.257157\u001b[0m\n",
      "\u001b[31m[02:06:30] src/tree/updater_prune.cc:74: tree pruning end, 1 roots, 58 extra nodes, 0 pruned nodes, max_depth=5\u001b[0m\n",
      "\u001b[31m[95]#011train-rmse:0.255151#011validation-rmse:0.2564\u001b[0m\n",
      "\u001b[31m[02:06:30] src/tree/updater_prune.cc:74: tree pruning end, 1 roots, 62 extra nodes, 0 pruned nodes, max_depth=5\u001b[0m\n",
      "\u001b[31m[96]#011train-rmse:0.254533#011validation-rmse:0.255712\u001b[0m\n",
      "\u001b[31m[02:06:30] src/tree/updater_prune.cc:74: tree pruning end, 1 roots, 54 extra nodes, 0 pruned nodes, max_depth=5\u001b[0m\n",
      "\u001b[31m[97]#011train-rmse:0.254199#011validation-rmse:0.255423\u001b[0m\n",
      "\u001b[31m[02:06:30] src/tree/updater_prune.cc:74: tree pruning end, 1 roots, 62 extra nodes, 0 pruned nodes, max_depth=5\u001b[0m\n",
      "\u001b[31m[98]#011train-rmse:0.253576#011validation-rmse:0.254727\u001b[0m\n",
      "\u001b[31m[02:06:30] src/tree/updater_prune.cc:74: tree pruning end, 1 roots, 52 extra nodes, 0 pruned nodes, max_depth=5\u001b[0m\n",
      "\u001b[31m[99]#011train-rmse:0.25335#011validation-rmse:0.254521\u001b[0m\n",
      "\u001b[31m[02:06:30] src/tree/updater_prune.cc:74: tree pruning end, 1 roots, 62 extra nodes, 0 pruned nodes, max_depth=5\u001b[0m\n",
      "\u001b[31m[100]#011train-rmse:0.252888#011validation-rmse:0.254106\u001b[0m\n",
      "\u001b[31m[02:06:30] src/tree/updater_prune.cc:74: tree pruning end, 1 roots, 58 extra nodes, 0 pruned nodes, max_depth=5\u001b[0m\n",
      "\u001b[31m[101]#011train-rmse:0.252595#011validation-rmse:0.253849\u001b[0m\n",
      "\u001b[31m[02:06:30] src/tree/updater_prune.cc:74: tree pruning end, 1 roots, 56 extra nodes, 0 pruned nodes, max_depth=5\u001b[0m\n",
      "\u001b[31m[102]#011train-rmse:0.25214#011validation-rmse:0.253319\u001b[0m\n",
      "\u001b[31m[02:06:30] src/tree/updater_prune.cc:74: tree pruning end, 1 roots, 60 extra nodes, 0 pruned nodes, max_depth=5\u001b[0m\n",
      "\u001b[31m[103]#011train-rmse:0.251788#011validation-rmse:0.25296\u001b[0m\n",
      "\u001b[31m[02:06:30] src/tree/updater_prune.cc:74: tree pruning end, 1 roots, 62 extra nodes, 0 pruned nodes, max_depth=5\u001b[0m\n",
      "\u001b[31m[104]#011train-rmse:0.25107#011validation-rmse:0.252171\u001b[0m\n",
      "\u001b[31m[02:06:30] src/tree/updater_prune.cc:74: tree pruning end, 1 roots, 62 extra nodes, 0 pruned nodes, max_depth=5\u001b[0m\n",
      "\u001b[31m[105]#011train-rmse:0.250381#011validation-rmse:0.251475\u001b[0m\n",
      "\u001b[31m[02:06:30] src/tree/updater_prune.cc:74: tree pruning end, 1 roots, 62 extra nodes, 0 pruned nodes, max_depth=5\u001b[0m\n",
      "\u001b[31m[106]#011train-rmse:0.249764#011validation-rmse:0.25107\u001b[0m\n",
      "\u001b[31m[02:06:30] src/tree/updater_prune.cc:74: tree pruning end, 1 roots, 62 extra nodes, 0 pruned nodes, max_depth=5\u001b[0m\n",
      "\u001b[31m[107]#011train-rmse:0.248957#011validation-rmse:0.250167\u001b[0m\n",
      "\u001b[31m[02:06:30] src/tree/updater_prune.cc:74: tree pruning end, 1 roots, 36 extra nodes, 0 pruned nodes, max_depth=5\u001b[0m\n",
      "\u001b[31m[108]#011train-rmse:0.248761#011validation-rmse:0.25003\u001b[0m\n",
      "\u001b[31m[02:06:30] src/tree/updater_prune.cc:74: tree pruning end, 1 roots, 62 extra nodes, 0 pruned nodes, max_depth=5\u001b[0m\n",
      "\u001b[31m[109]#011train-rmse:0.248294#011validation-rmse:0.249528\u001b[0m\n",
      "\u001b[31m[02:06:30] src/tree/updater_prune.cc:74: tree pruning end, 1 roots, 60 extra nodes, 0 pruned nodes, max_depth=5\u001b[0m\n",
      "\u001b[31m[110]#011train-rmse:0.247448#011validation-rmse:0.248519\u001b[0m\n",
      "\u001b[31m[02:06:30] src/tree/updater_prune.cc:74: tree pruning end, 1 roots, 60 extra nodes, 0 pruned nodes, max_depth=5\u001b[0m\n",
      "\u001b[31m[111]#011train-rmse:0.247053#011validation-rmse:0.248014\u001b[0m\n",
      "\u001b[31m[02:06:30] src/tree/updater_prune.cc:74: tree pruning end, 1 roots, 60 extra nodes, 0 pruned nodes, max_depth=5\u001b[0m\n",
      "\u001b[31m[112]#011train-rmse:0.246561#011validation-rmse:0.247496\u001b[0m\n",
      "\u001b[31m[02:06:30] src/tree/updater_prune.cc:74: tree pruning end, 1 roots, 62 extra nodes, 0 pruned nodes, max_depth=5\u001b[0m\n",
      "\u001b[31m[113]#011train-rmse:0.246162#011validation-rmse:0.247024\u001b[0m\n",
      "\u001b[31m[02:06:30] src/tree/updater_prune.cc:74: tree pruning end, 1 roots, 58 extra nodes, 0 pruned nodes, max_depth=5\u001b[0m\n",
      "\u001b[31m[114]#011train-rmse:0.24573#011validation-rmse:0.246465\u001b[0m\n",
      "\u001b[31m[02:06:30] src/tree/updater_prune.cc:74: tree pruning end, 1 roots, 62 extra nodes, 0 pruned nodes, max_depth=5\u001b[0m\n",
      "\u001b[31m[115]#011train-rmse:0.245327#011validation-rmse:0.246079\u001b[0m\n",
      "\u001b[31m[02:06:30] src/tree/updater_prune.cc:74: tree pruning end, 1 roots, 60 extra nodes, 0 pruned nodes, max_depth=5\u001b[0m\n",
      "\u001b[31m[116]#011train-rmse:0.244816#011validation-rmse:0.245475\u001b[0m\n",
      "\u001b[31m[02:06:30] src/tree/updater_prune.cc:74: tree pruning end, 1 roots, 48 extra nodes, 0 pruned nodes, max_depth=5\u001b[0m\n",
      "\u001b[31m[117]#011train-rmse:0.244467#011validation-rmse:0.24525\u001b[0m\n",
      "\u001b[31m[02:06:30] src/tree/updater_prune.cc:74: tree pruning end, 1 roots, 60 extra nodes, 0 pruned nodes, max_depth=5\u001b[0m\n",
      "\u001b[31m[118]#011train-rmse:0.244076#011validation-rmse:0.244885\u001b[0m\n",
      "\u001b[31m[02:06:30] src/tree/updater_prune.cc:74: tree pruning end, 1 roots, 60 extra nodes, 0 pruned nodes, max_depth=5\u001b[0m\n",
      "\u001b[31m[119]#011train-rmse:0.243551#011validation-rmse:0.244449\u001b[0m\n",
      "\u001b[31m[02:06:30] src/tree/updater_prune.cc:74: tree pruning end, 1 roots, 56 extra nodes, 0 pruned nodes, max_depth=5\u001b[0m\n",
      "\u001b[31m[120]#011train-rmse:0.243086#011validation-rmse:0.24407\u001b[0m\n",
      "\u001b[31m[02:06:30] src/tree/updater_prune.cc:74: tree pruning end, 1 roots, 62 extra nodes, 0 pruned nodes, max_depth=5\u001b[0m\n",
      "\u001b[31m[121]#011train-rmse:0.242628#011validation-rmse:0.243612\u001b[0m\n",
      "\u001b[31m[02:06:30] src/tree/updater_prune.cc:74: tree pruning end, 1 roots, 60 extra nodes, 0 pruned nodes, max_depth=5\u001b[0m\n",
      "\u001b[31m[122]#011train-rmse:0.242075#011validation-rmse:0.243048\u001b[0m\n",
      "\u001b[31m[02:06:30] src/tree/updater_prune.cc:74: tree pruning end, 1 roots, 60 extra nodes, 0 pruned nodes, max_depth=5\u001b[0m\n",
      "\u001b[31m[123]#011train-rmse:0.241799#011validation-rmse:0.242792\u001b[0m\n",
      "\u001b[31m[02:06:30] src/tree/updater_prune.cc:74: tree pruning end, 1 roots, 56 extra nodes, 0 pruned nodes, max_depth=5\u001b[0m\n",
      "\u001b[31m[124]#011train-rmse:0.241449#011validation-rmse:0.242426\u001b[0m\n",
      "\u001b[31m[02:06:30] src/tree/updater_prune.cc:74: tree pruning end, 1 roots, 62 extra nodes, 0 pruned nodes, max_depth=5\u001b[0m\n",
      "\u001b[31m[125]#011train-rmse:0.240965#011validation-rmse:0.24199\u001b[0m\n",
      "\u001b[31m[02:06:30] src/tree/updater_prune.cc:74: tree pruning end, 1 roots, 62 extra nodes, 0 pruned nodes, max_depth=5\u001b[0m\n",
      "\u001b[31m[126]#011train-rmse:0.240624#011validation-rmse:0.241589\u001b[0m\n",
      "\u001b[31m[02:06:30] src/tree/updater_prune.cc:74: tree pruning end, 1 roots, 62 extra nodes, 0 pruned nodes, max_depth=5\u001b[0m\n",
      "\u001b[31m[127]#011train-rmse:0.240175#011validation-rmse:0.241117\u001b[0m\n",
      "\u001b[31m[02:06:30] src/tree/updater_prune.cc:74: tree pruning end, 1 roots, 62 extra nodes, 0 pruned nodes, max_depth=5\u001b[0m\n",
      "\u001b[31m[128]#011train-rmse:0.239465#011validation-rmse:0.240441\u001b[0m\n",
      "\u001b[31m[02:06:30] src/tree/updater_prune.cc:74: tree pruning end, 1 roots, 60 extra nodes, 0 pruned nodes, max_depth=5\u001b[0m\n",
      "\u001b[31m[129]#011train-rmse:0.239168#011validation-rmse:0.240132\u001b[0m\n",
      "\u001b[31m[02:06:30] src/tree/updater_prune.cc:74: tree pruning end, 1 roots, 48 extra nodes, 0 pruned nodes, max_depth=5\u001b[0m\n",
      "\u001b[31m[130]#011train-rmse:0.238708#011validation-rmse:0.239692\u001b[0m\n",
      "\u001b[31m[02:06:30] src/tree/updater_prune.cc:74: tree pruning end, 1 roots, 62 extra nodes, 0 pruned nodes, max_depth=5\u001b[0m\n",
      "\u001b[31m[131]#011train-rmse:0.238066#011validation-rmse:0.238905\u001b[0m\n",
      "\u001b[31m[02:06:30] src/tree/updater_prune.cc:74: tree pruning end, 1 roots, 62 extra nodes, 0 pruned nodes, max_depth=5\u001b[0m\n",
      "\u001b[31m[132]#011train-rmse:0.23771#011validation-rmse:0.238569\u001b[0m\n",
      "\u001b[31m[02:06:30] src/tree/updater_prune.cc:74: tree pruning end, 1 roots, 58 extra nodes, 0 pruned nodes, max_depth=5\u001b[0m\n",
      "\u001b[31m[133]#011train-rmse:0.237586#011validation-rmse:0.238434\u001b[0m\n",
      "\u001b[31m[02:06:30] src/tree/updater_prune.cc:74: tree pruning end, 1 roots, 54 extra nodes, 0 pruned nodes, max_depth=5\u001b[0m\n",
      "\u001b[31m[134]#011train-rmse:0.237323#011validation-rmse:0.238242\u001b[0m\n",
      "\u001b[31m[02:06:30] src/tree/updater_prune.cc:74: tree pruning end, 1 roots, 50 extra nodes, 0 pruned nodes, max_depth=5\u001b[0m\n",
      "\u001b[31m[135]#011train-rmse:0.236975#011validation-rmse:0.237967\u001b[0m\n",
      "\u001b[31m[02:06:30] src/tree/updater_prune.cc:74: tree pruning end, 1 roots, 60 extra nodes, 0 pruned nodes, max_depth=5\u001b[0m\n",
      "\u001b[31m[136]#011train-rmse:0.236552#011validation-rmse:0.237657\u001b[0m\n",
      "\u001b[31m[02:06:30] src/tree/updater_prune.cc:74: tree pruning end, 1 roots, 62 extra nodes, 0 pruned nodes, max_depth=5\u001b[0m\n",
      "\u001b[31m[137]#011train-rmse:0.236109#011validation-rmse:0.237181\u001b[0m\n",
      "\u001b[31m[02:06:30] src/tree/updater_prune.cc:74: tree pruning end, 1 roots, 60 extra nodes, 0 pruned nodes, max_depth=5\u001b[0m\n",
      "\u001b[31m[138]#011train-rmse:0.235592#011validation-rmse:0.236739\u001b[0m\n",
      "\u001b[31m[02:06:30] src/tree/updater_prune.cc:74: tree pruning end, 1 roots, 58 extra nodes, 0 pruned nodes, max_depth=5\u001b[0m\n",
      "\u001b[31m[139]#011train-rmse:0.235218#011validation-rmse:0.236476\u001b[0m\n",
      "\u001b[31m[02:06:30] src/tree/updater_prune.cc:74: tree pruning end, 1 roots, 62 extra nodes, 0 pruned nodes, max_depth=5\u001b[0m\n",
      "\u001b[31m[140]#011train-rmse:0.234649#011validation-rmse:0.236038\u001b[0m\n",
      "\u001b[31m[02:06:30] src/tree/updater_prune.cc:74: tree pruning end, 1 roots, 62 extra nodes, 0 pruned nodes, max_depth=5\u001b[0m\n",
      "\u001b[31m[141]#011train-rmse:0.23418#011validation-rmse:0.23559\u001b[0m\n",
      "\u001b[31m[02:06:30] src/tree/updater_prune.cc:74: tree pruning end, 1 roots, 62 extra nodes, 0 pruned nodes, max_depth=5\u001b[0m\n",
      "\u001b[31m[142]#011train-rmse:0.233698#011validation-rmse:0.235078\u001b[0m\n",
      "\u001b[31m[02:06:30] src/tree/updater_prune.cc:74: tree pruning end, 1 roots, 62 extra nodes, 0 pruned nodes, max_depth=5\u001b[0m\n",
      "\u001b[31m[143]#011train-rmse:0.233279#011validation-rmse:0.234678\u001b[0m\n",
      "\u001b[31m[02:06:30] src/tree/updater_prune.cc:74: tree pruning end, 1 roots, 58 extra nodes, 0 pruned nodes, max_depth=5\u001b[0m\n",
      "\u001b[31m[144]#011train-rmse:0.232891#011validation-rmse:0.234301\u001b[0m\n",
      "\u001b[31m[02:06:30] src/tree/updater_prune.cc:74: tree pruning end, 1 roots, 62 extra nodes, 0 pruned nodes, max_depth=5\u001b[0m\n",
      "\u001b[31m[145]#011train-rmse:0.232478#011validation-rmse:0.233998\u001b[0m\n",
      "\u001b[31m[02:06:30] src/tree/updater_prune.cc:74: tree pruning end, 1 roots, 60 extra nodes, 0 pruned nodes, max_depth=5\u001b[0m\n",
      "\u001b[31m[146]#011train-rmse:0.231989#011validation-rmse:0.233462\u001b[0m\n",
      "\u001b[31m[02:06:30] src/tree/updater_prune.cc:74: tree pruning end, 1 roots, 56 extra nodes, 0 pruned nodes, max_depth=5\u001b[0m\n",
      "\u001b[31m[147]#011train-rmse:0.231696#011validation-rmse:0.233237\u001b[0m\n",
      "\u001b[31m[02:06:30] src/tree/updater_prune.cc:74: tree pruning end, 1 roots, 62 extra nodes, 0 pruned nodes, max_depth=5\u001b[0m\n",
      "\u001b[31m[148]#011train-rmse:0.231305#011validation-rmse:0.232784\u001b[0m\n",
      "\u001b[31m[02:06:30] src/tree/updater_prune.cc:74: tree pruning end, 1 roots, 60 extra nodes, 0 pruned nodes, max_depth=5\u001b[0m\n",
      "\u001b[31m[149]#011train-rmse:0.231006#011validation-rmse:0.232548\u001b[0m\n"
     ]
    },
    {
     "name": "stdout",
     "output_type": "stream",
     "text": [
      "\n",
      "2019-06-13 02:06:43 Uploading - Uploading generated training model\n",
      "2019-06-13 02:06:43 Completed - Training job completed\n",
      "Billable seconds: 53\n"
     ]
    }
   ],
   "source": [
    "# Train the Model \n",
    "# XGBoost supports \"training\" and \"validation\" channels\n",
    "# https://docs.aws.amazon.com/sagemaker/latest/dg/sagemaker-algo-docker-registry-paths.html\n",
    "\n",
    "estimator.fit({'train':training_input_config, 'validation': validation_input_config})"
   ]
  },
  {
   "cell_type": "markdown",
   "metadata": {},
   "source": [
    "Deploy the Model"
   ]
  },
  {
   "cell_type": "code",
   "execution_count": 238,
   "metadata": {},
   "outputs": [
    {
     "name": "stdout",
     "output_type": "stream",
     "text": [
      "----------------------------------------------------------------------------------------------------!"
     ]
    }
   ],
   "source": [
    "# https://sagemaker.readthedocs.io/en/stable/estimators.html\n",
    "# Add update_endpoint = True after the first round. So that the created end point is updated, with the changes\n",
    "\n",
    "predictor = estimator.deploy(initial_instance_count=1, \n",
    "                            instance_type='ml.m4.xlarge', \n",
    "                            endpoint_name = 'xgboost-bikeshare-v2')"
   ]
  },
  {
   "cell_type": "markdown",
   "metadata": {},
   "source": [
    "Run Predictions"
   ]
  },
  {
   "cell_type": "code",
   "execution_count": 239,
   "metadata": {},
   "outputs": [],
   "source": [
    "from sagemaker.predictor import csv_serializer, json_deserializer\n",
    "\n",
    "predictor.content_type = 'text/csv'\n",
    "predictor.serializer = csv_serializer\n",
    "predictor.deserializer = None"
   ]
  },
  {
   "cell_type": "code",
   "execution_count": 240,
   "metadata": {},
   "outputs": [
    {
     "data": {
      "text/plain": [
       "b'1.15976893902'"
      ]
     },
     "execution_count": 240,
     "metadata": {},
     "output_type": "execute_result"
    }
   ],
   "source": [
    "predictor.predict([1,0,1,1,10.66,12.88,56,11.0014,2011,1,20,3,3])"
   ]
  }
 ],
 "metadata": {
  "kernelspec": {
   "display_name": "conda_python3",
   "language": "python",
   "name": "conda_python3"
  },
  "language_info": {
   "codemirror_mode": {
    "name": "ipython",
    "version": 3
   },
   "file_extension": ".py",
   "mimetype": "text/x-python",
   "name": "python",
   "nbconvert_exporter": "python",
   "pygments_lexer": "ipython3",
   "version": "3.6.5"
  }
 },
 "nbformat": 4,
 "nbformat_minor": 2
}
