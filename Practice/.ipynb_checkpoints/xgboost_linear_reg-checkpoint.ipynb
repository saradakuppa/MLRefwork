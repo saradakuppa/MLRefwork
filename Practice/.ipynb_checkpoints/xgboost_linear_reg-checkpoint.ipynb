{
 "cells": [
  {
   "cell_type": "markdown",
   "metadata": {},
   "source": [
    "Training the XGBoost linear model using the linear data created earlier. \n",
    "\n",
    "Model is trained with XGBoost installed in the jupyter notebook!"
   ]
  },
  {
   "cell_type": "code",
   "execution_count": 273,
   "metadata": {},
   "outputs": [
    {
     "name": "stdout",
     "output_type": "stream",
     "text": [
      "Solving environment: done\n",
      "\n",
      "\n",
      "==> WARNING: A newer version of conda exists. <==\n",
      "  current version: 4.5.12\n",
      "  latest version: 4.6.14\n",
      "\n",
      "Please update conda by running\n",
      "\n",
      "    $ conda update -n base -c defaults conda\n",
      "\n",
      "\n",
      "\n",
      "# All requested packages already installed.\n",
      "\n"
     ]
    }
   ],
   "source": [
    "# Install XGBoost in the notebook instance\n",
    "!conda install -y -c conda-forge xgboost"
   ]
  },
  {
   "cell_type": "code",
   "execution_count": 274,
   "metadata": {},
   "outputs": [],
   "source": [
    "%matplotlib inline\n",
    "import sys\n",
    "import numpy as np\n",
    "import pandas as pd\n",
    "import matplotlib.pyplot as plt\n",
    "import xgboost as xgb"
   ]
  },
  {
   "cell_type": "code",
   "execution_count": 275,
   "metadata": {},
   "outputs": [],
   "source": [
    "linear_df = pd.read_csv('all_linear_data.csv')"
   ]
  },
  {
   "cell_type": "code",
   "execution_count": 276,
   "metadata": {},
   "outputs": [
    {
     "data": {
      "text/html": [
       "<div>\n",
       "<style scoped>\n",
       "    .dataframe tbody tr th:only-of-type {\n",
       "        vertical-align: middle;\n",
       "    }\n",
       "\n",
       "    .dataframe tbody tr th {\n",
       "        vertical-align: top;\n",
       "    }\n",
       "\n",
       "    .dataframe thead th {\n",
       "        text-align: right;\n",
       "    }\n",
       "</style>\n",
       "<table border=\"1\" class=\"dataframe\">\n",
       "  <thead>\n",
       "    <tr style=\"text-align: right;\">\n",
       "      <th></th>\n",
       "      <th>x</th>\n",
       "      <th>y</th>\n",
       "      <th>y_noise</th>\n",
       "    </tr>\n",
       "  </thead>\n",
       "  <tbody>\n",
       "    <tr>\n",
       "      <th>0</th>\n",
       "      <td>4.439863</td>\n",
       "      <td>30.199317</td>\n",
       "      <td>27.659911</td>\n",
       "    </tr>\n",
       "    <tr>\n",
       "      <th>1</th>\n",
       "      <td>17.414646</td>\n",
       "      <td>95.073231</td>\n",
       "      <td>102.635654</td>\n",
       "    </tr>\n",
       "    <tr>\n",
       "      <th>2</th>\n",
       "      <td>4.134383</td>\n",
       "      <td>28.671916</td>\n",
       "      <td>24.974757</td>\n",
       "    </tr>\n",
       "    <tr>\n",
       "      <th>3</th>\n",
       "      <td>18.372218</td>\n",
       "      <td>99.861091</td>\n",
       "      <td>102.041951</td>\n",
       "    </tr>\n",
       "    <tr>\n",
       "      <th>4</th>\n",
       "      <td>9.768224</td>\n",
       "      <td>56.841119</td>\n",
       "      <td>56.978985</td>\n",
       "    </tr>\n",
       "  </tbody>\n",
       "</table>\n",
       "</div>"
      ],
      "text/plain": [
       "           x          y     y_noise\n",
       "0   4.439863  30.199317   27.659911\n",
       "1  17.414646  95.073231  102.635654\n",
       "2   4.134383  28.671916   24.974757\n",
       "3  18.372218  99.861091  102.041951\n",
       "4   9.768224  56.841119   56.978985"
      ]
     },
     "execution_count": 276,
     "metadata": {},
     "output_type": "execute_result"
    }
   ],
   "source": [
    "linear_df.head(5)"
   ]
  },
  {
   "cell_type": "code",
   "execution_count": 277,
   "metadata": {},
   "outputs": [
    {
     "data": {
      "text/plain": [
       "<matplotlib.legend.Legend at 0x7ff9a43c5fd0>"
      ]
     },
     "execution_count": 277,
     "metadata": {},
     "output_type": "execute_result"
    },
    {
     "data": {
      "image/png": "[encoded data removed]",
      "text/plain": [
       "<Figure size 720x576 with 1 Axes>"
      ]
     },
     "metadata": {},
     "output_type": "display_data"
    }
   ],
   "source": [
    "# Plot defining the linearity between x and y \n",
    "# Plot defining the linearity between x and y_noise\n",
    "fig, ax = plt.subplots(figsize=(10, 8))\n",
    "plt.plot(linear_df.x, linear_df.y, color='blue', label = 'Ideal Fit')\n",
    "plt.scatter(x=linear_df.x, y=linear_df.y_noise, label = 'Target', color = 'r', marker = '+')\n",
    "plt.grid(True)\n",
    "plt.xlabel('Input Feature')\n",
    "plt.ylabel('Target')\n",
    "plt.legend()"
   ]
  },
  {
   "cell_type": "code",
   "execution_count": 278,
   "metadata": {},
   "outputs": [],
   "source": [
    "training_file = 'linear_training_data.csv'\n",
    "test_file = 'linear_test_data.csv'"
   ]
  },
  {
   "cell_type": "code",
   "execution_count": 279,
   "metadata": {},
   "outputs": [],
   "source": [
    "# Read training and test data\n",
    "# Specify the column names as the files dont contain column names\n",
    "# Supply the column in a parameter called names as an array.\n",
    "training_df = pd.read_csv(training_file)\n",
    "test_df = pd.read_csv(test_file)"
   ]
  },
  {
   "cell_type": "code",
   "execution_count": 280,
   "metadata": {},
   "outputs": [
    {
     "data": {
      "text/html": [
       "<div>\n",
       "<style scoped>\n",
       "    .dataframe tbody tr th:only-of-type {\n",
       "        vertical-align: middle;\n",
       "    }\n",
       "\n",
       "    .dataframe tbody tr th {\n",
       "        vertical-align: top;\n",
       "    }\n",
       "\n",
       "    .dataframe thead th {\n",
       "        text-align: right;\n",
       "    }\n",
       "</style>\n",
       "<table border=\"1\" class=\"dataframe\">\n",
       "  <thead>\n",
       "    <tr style=\"text-align: right;\">\n",
       "      <th></th>\n",
       "      <th>y_noise</th>\n",
       "      <th>x</th>\n",
       "    </tr>\n",
       "  </thead>\n",
       "  <tbody>\n",
       "    <tr>\n",
       "      <th>0</th>\n",
       "      <td>88.563247</td>\n",
       "      <td>16.871099</td>\n",
       "    </tr>\n",
       "    <tr>\n",
       "      <th>1</th>\n",
       "      <td>13.212976</td>\n",
       "      <td>1.268020</td>\n",
       "    </tr>\n",
       "    <tr>\n",
       "      <th>2</th>\n",
       "      <td>60.304166</td>\n",
       "      <td>10.534351</td>\n",
       "    </tr>\n",
       "    <tr>\n",
       "      <th>3</th>\n",
       "      <td>92.380046</td>\n",
       "      <td>17.409662</td>\n",
       "    </tr>\n",
       "    <tr>\n",
       "      <th>4</th>\n",
       "      <td>102.040835</td>\n",
       "      <td>19.072610</td>\n",
       "    </tr>\n",
       "  </tbody>\n",
       "</table>\n",
       "</div>"
      ],
      "text/plain": [
       "      y_noise          x\n",
       "0   88.563247  16.871099\n",
       "1   13.212976   1.268020\n",
       "2   60.304166  10.534351\n",
       "3   92.380046  17.409662\n",
       "4  102.040835  19.072610"
      ]
     },
     "execution_count": 280,
     "metadata": {},
     "output_type": "execute_result"
    }
   ],
   "source": [
    "training_df.head(5)"
   ]
  },
  {
   "cell_type": "code",
   "execution_count": 281,
   "metadata": {},
   "outputs": [
    {
     "data": {
      "text/html": [
       "<div>\n",
       "<style scoped>\n",
       "    .dataframe tbody tr th:only-of-type {\n",
       "        vertical-align: middle;\n",
       "    }\n",
       "\n",
       "    .dataframe tbody tr th {\n",
       "        vertical-align: top;\n",
       "    }\n",
       "\n",
       "    .dataframe thead th {\n",
       "        text-align: right;\n",
       "    }\n",
       "</style>\n",
       "<table border=\"1\" class=\"dataframe\">\n",
       "  <thead>\n",
       "    <tr style=\"text-align: right;\">\n",
       "      <th></th>\n",
       "      <th>y_noise</th>\n",
       "      <th>x</th>\n",
       "    </tr>\n",
       "  </thead>\n",
       "  <tbody>\n",
       "    <tr>\n",
       "      <th>0</th>\n",
       "      <td>88.563247</td>\n",
       "      <td>16.871099</td>\n",
       "    </tr>\n",
       "    <tr>\n",
       "      <th>1</th>\n",
       "      <td>13.212976</td>\n",
       "      <td>1.268020</td>\n",
       "    </tr>\n",
       "    <tr>\n",
       "      <th>2</th>\n",
       "      <td>60.304166</td>\n",
       "      <td>10.534351</td>\n",
       "    </tr>\n",
       "    <tr>\n",
       "      <th>3</th>\n",
       "      <td>92.380046</td>\n",
       "      <td>17.409662</td>\n",
       "    </tr>\n",
       "    <tr>\n",
       "      <th>4</th>\n",
       "      <td>102.040835</td>\n",
       "      <td>19.072610</td>\n",
       "    </tr>\n",
       "  </tbody>\n",
       "</table>\n",
       "</div>"
      ],
      "text/plain": [
       "      y_noise          x\n",
       "0   88.563247  16.871099\n",
       "1   13.212976   1.268020\n",
       "2   60.304166  10.534351\n",
       "3   92.380046  17.409662\n",
       "4  102.040835  19.072610"
      ]
     },
     "execution_count": 281,
     "metadata": {},
     "output_type": "execute_result"
    }
   ],
   "source": [
    "test_df.head(5)"
   ]
  },
  {
   "cell_type": "code",
   "execution_count": 282,
   "metadata": {},
   "outputs": [
    {
     "data": {
      "text/plain": [
       "<matplotlib.legend.Legend at 0x7ff9a43a7908>"
      ]
     },
     "execution_count": 282,
     "metadata": {},
     "output_type": "execute_result"
    },
    {
     "data": {
      "image/png": "[encoded data removed]",
      "text/plain": [
       "<Figure size 720x576 with 1 Axes>"
      ]
     },
     "metadata": {},
     "output_type": "display_data"
    }
   ],
   "source": [
    "# Plot of the linearity for training data\n",
    "# PLot of the linearity for test data\n",
    "\n",
    "fig, ax = plt.subplots(figsize=(10, 8))\n",
    "plt.scatter(training_df.x, training_df.y_noise, label = 'Training Data')\n",
    "plt.scatter(x=test_df.x, y=test_df.y_noise, color = 'r', marker = '+', label = 'Test Data')\n",
    "plt.grid(True)\n",
    "plt.xlabel('Input Feature')\n",
    "plt.ylabel('Target')\n",
    "plt.title('Training and Test Data')\n",
    "plt.legend()"
   ]
  },
  {
   "cell_type": "code",
   "execution_count": 283,
   "metadata": {},
   "outputs": [],
   "source": [
    "# Separate input features i.e independent variables \n",
    "# and separate the dependent variables  y to be be trained by the XGBoost model.\n",
    "# we use .ravel() to return a flattend out 1D array of the dependent variable(target variable)\n",
    "\n",
    "# Training set is split into individual columns\n",
    "X_train = training_df.iloc[:,1:] # This is Independent variable or input features\n",
    "y_train = training_df.iloc[:,0].ravel()\n",
    "\n",
    "# Test set is separated into individual columns\n",
    "X_validation = test_df.iloc[:,1:]\n",
    "y_validation = test_df.iloc[:,0].ravel()"
   ]
  },
  {
   "cell_type": "code",
   "execution_count": 284,
   "metadata": {},
   "outputs": [
    {
     "data": {
      "text/plain": [
       "array([ 88.56324658,  13.21297597,  60.30416627,  92.3800465 ,\n",
       "       102.04083518,  72.21611053, 102.63565352,  12.93622437,\n",
       "        20.15193829,  18.83217923,  48.43648516,  30.57751501,\n",
       "        12.29237651,  45.5724023 ,  23.33872862,  34.26976597,\n",
       "       107.02984906,   8.58586711,  27.83455737,  47.68714469,\n",
       "        19.70668035,  44.30791987,  90.29004828,  48.21428846,\n",
       "        42.16447264,  94.19571687,  90.37753286,  86.21609287,\n",
       "        95.90745708,  84.84366617, 109.19389872,  16.76219676,\n",
       "       101.41480805,  17.44710109,  91.78522116,  64.21119827,\n",
       "        96.37210704,  32.31469885,  33.6282623 ,  71.66120981,\n",
       "        64.85598978,  87.91830646,  33.34221963, 102.9517759 ,\n",
       "        17.20631148,  31.56139298,  90.74201718,  44.34660663,\n",
       "       108.52120571,  66.88769107,  67.18618765,  70.16190047,\n",
       "        87.03918273,  37.22925716, 106.80522015,   4.92748162,\n",
       "       105.12315662,  17.92670792,  65.84517701,  76.02148915,\n",
       "        70.00485239,  40.95002764,  50.1531641 ,   7.07228682,\n",
       "        31.38756294,  41.29396191,  57.64330369,  56.66893569,\n",
       "       107.39106793,  91.97664291,  16.64228065,  60.97265083,\n",
       "        32.64605684, 104.97251913,  58.56423609,  49.20615006,\n",
       "        25.71349395,  71.45838895,  80.22581919,  88.776283  ,\n",
       "        23.78015082,  39.52941775,  65.84923603,  56.34414016,\n",
       "        15.50865569,  55.95626272,  94.85153749,  49.06574221,\n",
       "        96.60076076,  23.27028752,  83.76054578,  94.04332093,\n",
       "       100.34590375,  48.29663938, 102.27564968,  49.78251285,\n",
       "        11.95760956,  90.34074499,  31.76132776,  77.8992704 ,\n",
       "        63.23448865,  18.39112975, 102.04195058,  34.77021468,\n",
       "        24.08559204])"
      ]
     },
     "execution_count": 284,
     "metadata": {},
     "output_type": "execute_result"
    }
   ],
   "source": [
    "y_train"
   ]
  },
  {
   "cell_type": "code",
   "execution_count": 285,
   "metadata": {},
   "outputs": [],
   "source": [
    "# Initiate the XGBoost Regressor (XGBRegressor) with all default values\n",
    "# It will be used to train and fit the model\n",
    "regressor = xgb.XGBRegressor()"
   ]
  },
  {
   "cell_type": "code",
   "execution_count": 286,
   "metadata": {},
   "outputs": [
    {
     "data": {
      "text/plain": [
       "XGBRegressor(base_score=0.5, booster='gbtree', colsample_bylevel=1,\n",
       "       colsample_bytree=1, gamma=0, importance_type='gain',\n",
       "       learning_rate=0.1, max_delta_step=0, max_depth=3,\n",
       "       min_child_weight=1, missing=None, n_estimators=100, n_jobs=1,\n",
       "       nthread=None, objective='reg:linear', random_state=0, reg_alpha=0,\n",
       "       reg_lambda=1, scale_pos_weight=1, seed=None, silent=True,\n",
       "       subsample=1)"
      ]
     },
     "execution_count": 286,
     "metadata": {},
     "output_type": "execute_result"
    }
   ],
   "source": [
    "regressor"
   ]
  },
  {
   "cell_type": "code",
   "execution_count": 287,
   "metadata": {},
   "outputs": [
    {
     "name": "stdout",
     "output_type": "stream",
     "text": [
      "[0]\tvalidation_0-rmse:59.9154\tvalidation_1-rmse:59.9312\n",
      "[1]\tvalidation_0-rmse:54.199\tvalidation_1-rmse:54.1003\n",
      "[2]\tvalidation_0-rmse:49.0326\tvalidation_1-rmse:48.895\n",
      "[3]\tvalidation_0-rmse:44.3694\tvalidation_1-rmse:44.1344\n",
      "[4]\tvalidation_0-rmse:40.1549\tvalidation_1-rmse:39.8796\n",
      "[5]\tvalidation_0-rmse:36.3543\tvalidation_1-rmse:35.9839\n",
      "[6]\tvalidation_0-rmse:32.9178\tvalidation_1-rmse:32.5347\n",
      "[7]\tvalidation_0-rmse:29.811\tvalidation_1-rmse:29.4513\n",
      "[8]\tvalidation_0-rmse:27.0065\tvalidation_1-rmse:26.6482\n",
      "[9]\tvalidation_0-rmse:24.4668\tvalidation_1-rmse:24.1195\n",
      "[10]\tvalidation_0-rmse:22.1778\tvalidation_1-rmse:21.8218\n",
      "[11]\tvalidation_0-rmse:20.0954\tvalidation_1-rmse:19.7169\n",
      "[12]\tvalidation_0-rmse:18.2253\tvalidation_1-rmse:17.8472\n",
      "[13]\tvalidation_0-rmse:16.5299\tvalidation_1-rmse:16.1302\n",
      "[14]\tvalidation_0-rmse:15.0003\tvalidation_1-rmse:14.589\n",
      "[15]\tvalidation_0-rmse:13.6189\tvalidation_1-rmse:13.1926\n",
      "[16]\tvalidation_0-rmse:12.3733\tvalidation_1-rmse:11.9326\n",
      "[17]\tvalidation_0-rmse:11.25\tvalidation_1-rmse:10.8243\n",
      "[18]\tvalidation_0-rmse:10.2339\tvalidation_1-rmse:9.80698\n",
      "[19]\tvalidation_0-rmse:9.31834\tvalidation_1-rmse:8.89052\n",
      "[20]\tvalidation_0-rmse:8.49393\tvalidation_1-rmse:8.07802\n",
      "[21]\tvalidation_0-rmse:7.7502\tvalidation_1-rmse:7.33265\n",
      "[22]\tvalidation_0-rmse:7.08306\tvalidation_1-rmse:6.67612\n",
      "[23]\tvalidation_0-rmse:6.48296\tvalidation_1-rmse:6.09605\n",
      "[24]\tvalidation_0-rmse:5.94453\tvalidation_1-rmse:5.5787\n",
      "[25]\tvalidation_0-rmse:5.46123\tvalidation_1-rmse:5.10931\n",
      "[26]\tvalidation_0-rmse:5.02915\tvalidation_1-rmse:4.69865\n",
      "[27]\tvalidation_0-rmse:4.6448\tvalidation_1-rmse:4.32341\n",
      "[28]\tvalidation_0-rmse:4.30096\tvalidation_1-rmse:3.99811\n",
      "[29]\tvalidation_0-rmse:3.9966\tvalidation_1-rmse:3.71985\n",
      "[30]\tvalidation_0-rmse:3.72664\tvalidation_1-rmse:3.46291\n",
      "[31]\tvalidation_0-rmse:3.48906\tvalidation_1-rmse:3.24072\n",
      "[32]\tvalidation_0-rmse:3.28059\tvalidation_1-rmse:3.0573\n",
      "[33]\tvalidation_0-rmse:3.09596\tvalidation_1-rmse:2.88895\n",
      "[34]\tvalidation_0-rmse:2.93237\tvalidation_1-rmse:2.73541\n",
      "[35]\tvalidation_0-rmse:2.7923\tvalidation_1-rmse:2.61081\n",
      "[36]\tvalidation_0-rmse:2.66856\tvalidation_1-rmse:2.50683\n",
      "[37]\tvalidation_0-rmse:2.56467\tvalidation_1-rmse:2.42735\n",
      "[38]\tvalidation_0-rmse:2.47199\tvalidation_1-rmse:2.35291\n",
      "[39]\tvalidation_0-rmse:2.39174\tvalidation_1-rmse:2.29774\n",
      "[40]\tvalidation_0-rmse:2.32458\tvalidation_1-rmse:2.24034\n",
      "[41]\tvalidation_0-rmse:2.26565\tvalidation_1-rmse:2.19939\n",
      "[42]\tvalidation_0-rmse:2.21103\tvalidation_1-rmse:2.14344\n",
      "[43]\tvalidation_0-rmse:2.16715\tvalidation_1-rmse:2.11012\n",
      "[44]\tvalidation_0-rmse:2.1242\tvalidation_1-rmse:2.0896\n",
      "[45]\tvalidation_0-rmse:2.08977\tvalidation_1-rmse:2.07307\n",
      "[46]\tvalidation_0-rmse:2.0565\tvalidation_1-rmse:2.06046\n",
      "[47]\tvalidation_0-rmse:2.02891\tvalidation_1-rmse:2.04682\n",
      "[48]\tvalidation_0-rmse:2.00458\tvalidation_1-rmse:2.0312\n",
      "[49]\tvalidation_0-rmse:1.98188\tvalidation_1-rmse:2.01585\n",
      "[50]\tvalidation_0-rmse:1.95819\tvalidation_1-rmse:1.99756\n",
      "[51]\tvalidation_0-rmse:1.94345\tvalidation_1-rmse:1.99479\n",
      "[52]\tvalidation_0-rmse:1.92439\tvalidation_1-rmse:1.98006\n",
      "[53]\tvalidation_0-rmse:1.90588\tvalidation_1-rmse:1.97145\n",
      "[54]\tvalidation_0-rmse:1.89306\tvalidation_1-rmse:1.96737\n",
      "[55]\tvalidation_0-rmse:1.87481\tvalidation_1-rmse:1.94086\n",
      "[56]\tvalidation_0-rmse:1.86188\tvalidation_1-rmse:1.92324\n",
      "[57]\tvalidation_0-rmse:1.84936\tvalidation_1-rmse:1.91482\n",
      "[58]\tvalidation_0-rmse:1.83393\tvalidation_1-rmse:1.90637\n",
      "[59]\tvalidation_0-rmse:1.82793\tvalidation_1-rmse:1.90056\n",
      "[60]\tvalidation_0-rmse:1.80881\tvalidation_1-rmse:1.88816\n",
      "[61]\tvalidation_0-rmse:1.80372\tvalidation_1-rmse:1.88289\n",
      "[62]\tvalidation_0-rmse:1.79925\tvalidation_1-rmse:1.87824\n",
      "[63]\tvalidation_0-rmse:1.79532\tvalidation_1-rmse:1.87414\n",
      "[64]\tvalidation_0-rmse:1.77973\tvalidation_1-rmse:1.84877\n",
      "[65]\tvalidation_0-rmse:1.77178\tvalidation_1-rmse:1.84723\n",
      "[66]\tvalidation_0-rmse:1.76221\tvalidation_1-rmse:1.84493\n",
      "[67]\tvalidation_0-rmse:1.75361\tvalidation_1-rmse:1.84291\n",
      "[68]\tvalidation_0-rmse:1.74549\tvalidation_1-rmse:1.83305\n",
      "[69]\tvalidation_0-rmse:1.73795\tvalidation_1-rmse:1.83405\n",
      "[70]\tvalidation_0-rmse:1.73529\tvalidation_1-rmse:1.83084\n",
      "[71]\tvalidation_0-rmse:1.73009\tvalidation_1-rmse:1.82268\n",
      "[72]\tvalidation_0-rmse:1.7279\tvalidation_1-rmse:1.82002\n",
      "[73]\tvalidation_0-rmse:1.71208\tvalidation_1-rmse:1.80765\n",
      "[74]\tvalidation_0-rmse:1.71015\tvalidation_1-rmse:1.8052\n",
      "[75]\tvalidation_0-rmse:1.70224\tvalidation_1-rmse:1.79693\n",
      "[76]\tvalidation_0-rmse:1.70056\tvalidation_1-rmse:1.79469\n",
      "[77]\tvalidation_0-rmse:1.69368\tvalidation_1-rmse:1.79356\n",
      "[78]\tvalidation_0-rmse:1.68917\tvalidation_1-rmse:1.79374\n",
      "[79]\tvalidation_0-rmse:1.67249\tvalidation_1-rmse:1.78226\n",
      "[80]\tvalidation_0-rmse:1.66859\tvalidation_1-rmse:1.78237\n",
      "[81]\tvalidation_0-rmse:1.66614\tvalidation_1-rmse:1.78173\n",
      "[82]\tvalidation_0-rmse:1.65463\tvalidation_1-rmse:1.77072\n",
      "[83]\tvalidation_0-rmse:1.65329\tvalidation_1-rmse:1.76883\n",
      "[84]\tvalidation_0-rmse:1.64992\tvalidation_1-rmse:1.76885\n",
      "[85]\tvalidation_0-rmse:1.64286\tvalidation_1-rmse:1.76355\n",
      "[86]\tvalidation_0-rmse:1.63996\tvalidation_1-rmse:1.76353\n",
      "[87]\tvalidation_0-rmse:1.63374\tvalidation_1-rmse:1.75881\n",
      "[88]\tvalidation_0-rmse:1.63054\tvalidation_1-rmse:1.75745\n",
      "[89]\tvalidation_0-rmse:1.61731\tvalidation_1-rmse:1.74205\n",
      "[90]\tvalidation_0-rmse:1.6161\tvalidation_1-rmse:1.74017\n",
      "[91]\tvalidation_0-rmse:1.61359\tvalidation_1-rmse:1.74005\n",
      "[92]\tvalidation_0-rmse:1.60155\tvalidation_1-rmse:1.72607\n",
      "[93]\tvalidation_0-rmse:1.59924\tvalidation_1-rmse:1.72591\n",
      "[94]\tvalidation_0-rmse:1.59815\tvalidation_1-rmse:1.72407\n",
      "[95]\tvalidation_0-rmse:1.5863\tvalidation_1-rmse:1.70874\n",
      "[96]\tvalidation_0-rmse:1.58378\tvalidation_1-rmse:1.70768\n",
      "[97]\tvalidation_0-rmse:1.58281\tvalidation_1-rmse:1.7061\n",
      "[98]\tvalidation_0-rmse:1.58082\tvalidation_1-rmse:1.70592\n",
      "[99]\tvalidation_0-rmse:1.56988\tvalidation_1-rmse:1.69324\n"
     ]
    },
    {
     "data": {
      "text/plain": [
       "XGBRegressor(base_score=0.5, booster='gbtree', colsample_bylevel=1,\n",
       "       colsample_bytree=1, gamma=0, importance_type='gain',\n",
       "       learning_rate=0.1, max_delta_step=0, max_depth=3,\n",
       "       min_child_weight=1, missing=None, n_estimators=100, n_jobs=1,\n",
       "       nthread=None, objective='reg:linear', random_state=0, reg_alpha=0,\n",
       "       reg_lambda=1, scale_pos_weight=1, seed=None, silent=True,\n",
       "       subsample=1)"
      ]
     },
     "execution_count": 287,
     "metadata": {},
     "output_type": "execute_result"
    }
   ],
   "source": [
    "# We now fit the regressor to training data \n",
    "# and evaluate the error percentage for the training and test sets\n",
    "# the error percentage must ideal trend downwards with each iteration.\n",
    "# In this case the error percentage starts with 59% and reduces to 1.5% as the regressors learns\n",
    "# rmse - Root Mean Square Error\n",
    "regressor.fit(X_train, y_train, eval_set=[(X_train, y_train), (X_validation, y_validation)])"
   ]
  },
  {
   "cell_type": "code",
   "execution_count": 288,
   "metadata": {},
   "outputs": [],
   "source": [
    "# Evaluation results can obtained using evals_results function\n",
    "\n",
    "eval_results = regressor.evals_result()"
   ]
  },
  {
   "cell_type": "code",
   "execution_count": 289,
   "metadata": {},
   "outputs": [
    {
     "data": {
      "text/plain": [
       "{'validation_0': {'rmse': [59.915394,\n",
       "   54.198971,\n",
       "   49.032562,\n",
       "   44.369446,\n",
       "   40.154884,\n",
       "   36.354263,\n",
       "   32.917759,\n",
       "   29.811039,\n",
       "   27.00647,\n",
       "   24.466793,\n",
       "   22.177771,\n",
       "   20.09539,\n",
       "   18.225262,\n",
       "   16.529873,\n",
       "   15.000332,\n",
       "   13.6189,\n",
       "   12.373325,\n",
       "   11.249956,\n",
       "   10.233866,\n",
       "   9.318342,\n",
       "   8.493931,\n",
       "   7.750203,\n",
       "   7.08306,\n",
       "   6.482958,\n",
       "   5.944533,\n",
       "   5.461229,\n",
       "   5.029148,\n",
       "   4.644796,\n",
       "   4.300961,\n",
       "   3.996599,\n",
       "   3.726644,\n",
       "   3.489061,\n",
       "   3.280589,\n",
       "   3.095958,\n",
       "   2.932367,\n",
       "   2.792295,\n",
       "   2.668563,\n",
       "   2.564667,\n",
       "   2.471993,\n",
       "   2.391735,\n",
       "   2.324584,\n",
       "   2.265652,\n",
       "   2.211031,\n",
       "   2.16715,\n",
       "   2.124197,\n",
       "   2.089766,\n",
       "   2.056503,\n",
       "   2.028913,\n",
       "   2.004578,\n",
       "   1.981877,\n",
       "   1.958192,\n",
       "   1.943447,\n",
       "   1.92439,\n",
       "   1.905876,\n",
       "   1.893058,\n",
       "   1.874805,\n",
       "   1.861881,\n",
       "   1.849355,\n",
       "   1.833931,\n",
       "   1.82793,\n",
       "   1.808806,\n",
       "   1.80372,\n",
       "   1.799252,\n",
       "   1.795322,\n",
       "   1.779727,\n",
       "   1.771783,\n",
       "   1.762211,\n",
       "   1.753605,\n",
       "   1.745494,\n",
       "   1.73795,\n",
       "   1.735292,\n",
       "   1.73009,\n",
       "   1.727898,\n",
       "   1.712081,\n",
       "   1.710151,\n",
       "   1.702242,\n",
       "   1.700556,\n",
       "   1.693676,\n",
       "   1.689172,\n",
       "   1.67249,\n",
       "   1.668589,\n",
       "   1.666137,\n",
       "   1.654633,\n",
       "   1.65329,\n",
       "   1.649924,\n",
       "   1.642864,\n",
       "   1.639964,\n",
       "   1.633737,\n",
       "   1.630537,\n",
       "   1.617307,\n",
       "   1.616102,\n",
       "   1.613585,\n",
       "   1.601553,\n",
       "   1.599239,\n",
       "   1.598153,\n",
       "   1.586302,\n",
       "   1.583777,\n",
       "   1.582805,\n",
       "   1.580822,\n",
       "   1.56988]},\n",
       " 'validation_1': {'rmse': [59.931232,\n",
       "   54.100281,\n",
       "   48.895023,\n",
       "   44.134399,\n",
       "   39.879635,\n",
       "   35.983875,\n",
       "   32.534672,\n",
       "   29.451336,\n",
       "   26.648211,\n",
       "   24.119543,\n",
       "   21.821821,\n",
       "   19.716911,\n",
       "   17.847204,\n",
       "   16.130192,\n",
       "   14.589023,\n",
       "   13.192624,\n",
       "   11.932623,\n",
       "   10.824275,\n",
       "   9.806979,\n",
       "   8.890523,\n",
       "   8.078024,\n",
       "   7.33265,\n",
       "   6.676119,\n",
       "   6.096054,\n",
       "   5.5787,\n",
       "   5.109307,\n",
       "   4.698652,\n",
       "   4.323409,\n",
       "   3.998115,\n",
       "   3.719849,\n",
       "   3.462908,\n",
       "   3.240722,\n",
       "   3.057302,\n",
       "   2.888953,\n",
       "   2.735409,\n",
       "   2.610807,\n",
       "   2.506829,\n",
       "   2.427354,\n",
       "   2.352907,\n",
       "   2.297738,\n",
       "   2.24034,\n",
       "   2.199393,\n",
       "   2.143445,\n",
       "   2.110117,\n",
       "   2.089598,\n",
       "   2.073073,\n",
       "   2.060455,\n",
       "   2.046818,\n",
       "   2.031199,\n",
       "   2.015853,\n",
       "   1.997556,\n",
       "   1.99479,\n",
       "   1.98006,\n",
       "   1.971449,\n",
       "   1.967373,\n",
       "   1.940864,\n",
       "   1.92324,\n",
       "   1.914818,\n",
       "   1.906373,\n",
       "   1.900564,\n",
       "   1.888156,\n",
       "   1.882887,\n",
       "   1.878239,\n",
       "   1.874137,\n",
       "   1.848773,\n",
       "   1.847228,\n",
       "   1.844932,\n",
       "   1.842908,\n",
       "   1.83305,\n",
       "   1.834054,\n",
       "   1.830841,\n",
       "   1.822682,\n",
       "   1.820024,\n",
       "   1.807653,\n",
       "   1.805199,\n",
       "   1.796926,\n",
       "   1.794688,\n",
       "   1.793558,\n",
       "   1.793742,\n",
       "   1.782256,\n",
       "   1.782373,\n",
       "   1.781727,\n",
       "   1.770717,\n",
       "   1.768828,\n",
       "   1.768853,\n",
       "   1.763555,\n",
       "   1.763534,\n",
       "   1.758806,\n",
       "   1.757454,\n",
       "   1.742052,\n",
       "   1.740173,\n",
       "   1.740046,\n",
       "   1.726074,\n",
       "   1.725912,\n",
       "   1.724067,\n",
       "   1.70874,\n",
       "   1.707682,\n",
       "   1.706096,\n",
       "   1.705923,\n",
       "   1.693241]}}"
      ]
     },
     "execution_count": 289,
     "metadata": {},
     "output_type": "execute_result"
    }
   ],
   "source": [
    "eval_results"
   ]
  },
  {
   "cell_type": "code",
   "execution_count": 290,
   "metadata": {},
   "outputs": [],
   "source": [
    "# Lets plot the error rate for both training and test data sets \n",
    "# for this we need to get the x which in this case will be the number/range of training rounds \n",
    "\n",
    "training_rounds = range(len(eval_results['validation_0']['rmse']))"
   ]
  },
  {
   "cell_type": "code",
   "execution_count": 291,
   "metadata": {},
   "outputs": [
    {
     "data": {
      "text/plain": [
       "range(0, 100)"
      ]
     },
     "execution_count": 291,
     "metadata": {},
     "output_type": "execute_result"
    }
   ],
   "source": [
    "training_rounds"
   ]
  },
  {
   "cell_type": "code",
   "execution_count": 305,
   "metadata": {},
   "outputs": [
    {
     "data": {
      "text/plain": [
       "<matplotlib.legend.Legend at 0x7ff9a41b4fd0>"
      ]
     },
     "execution_count": 305,
     "metadata": {},
     "output_type": "execute_result"
    },
    {
     "data": {
      "image/png": "[encoded data removed]",
      "text/plain": [
       "<Figure size 720x576 with 1 Axes>"
      ]
     },
     "metadata": {},
     "output_type": "display_data"
    }
   ],
   "source": [
    "# Lets plot the error rate, which should trend downwards\n",
    "fig, ax = plt.subplots(figsize=(10, 8))\n",
    "plt.scatter(x=training_rounds, y=eval_results['validation_0']['rmse'], label = 'Training Error')\n",
    "plt.scatter(x=training_rounds, y=eval_results['validation_1']['rmse'], label = 'Validation/Test Error')\n",
    "plt.grid(True)\n",
    "plt.xlabel('Iterations')\n",
    "plt.ylabel('RMSE')\n",
    "plt.title('Training Vs Validation Error')\n",
    "plt.legend()\n",
    "\n",
    "# IF TRAINING ERROR GOES DOWN BUT VALIDATION ERROR GOES UP THEN IT INDICATES OVERFITTING"
   ]
  },
  {
   "cell_type": "code",
   "execution_count": 307,
   "metadata": {},
   "outputs": [
    {
     "data": {
      "text/plain": [
       "<matplotlib.axes._subplots.AxesSubplot at 0x7ff9a40fed30>"
      ]
     },
     "execution_count": 307,
     "metadata": {},
     "output_type": "execute_result"
    },
    {
     "data": {
      "image/png": "[encoded data removed]",
      "text/plain": [
       "<Figure size 432x288 with 1 Axes>"
      ]
     },
     "metadata": {},
     "output_type": "display_data"
    }
   ],
   "source": [
    "# xgb.plot_importance indicates which independent variables are contibuting to imporve the model.\n",
    "xgb.plot_importance(regressor)"
   ]
  },
  {
   "cell_type": "code",
   "execution_count": 294,
   "metadata": {},
   "outputs": [
    {
     "data": {
      "text/html": [
       "<div>\n",
       "<style scoped>\n",
       "    .dataframe tbody tr th:only-of-type {\n",
       "        vertical-align: middle;\n",
       "    }\n",
       "\n",
       "    .dataframe tbody tr th {\n",
       "        vertical-align: top;\n",
       "    }\n",
       "\n",
       "    .dataframe thead th {\n",
       "        text-align: right;\n",
       "    }\n",
       "</style>\n",
       "<table border=\"1\" class=\"dataframe\">\n",
       "  <thead>\n",
       "    <tr style=\"text-align: right;\">\n",
       "      <th></th>\n",
       "      <th>x</th>\n",
       "      <th>y</th>\n",
       "      <th>y_noise</th>\n",
       "    </tr>\n",
       "  </thead>\n",
       "  <tbody>\n",
       "    <tr>\n",
       "      <th>0</th>\n",
       "      <td>4.439863</td>\n",
       "      <td>30.199317</td>\n",
       "      <td>27.659911</td>\n",
       "    </tr>\n",
       "    <tr>\n",
       "      <th>1</th>\n",
       "      <td>17.414646</td>\n",
       "      <td>95.073231</td>\n",
       "      <td>102.635654</td>\n",
       "    </tr>\n",
       "    <tr>\n",
       "      <th>2</th>\n",
       "      <td>4.134383</td>\n",
       "      <td>28.671916</td>\n",
       "      <td>24.974757</td>\n",
       "    </tr>\n",
       "    <tr>\n",
       "      <th>3</th>\n",
       "      <td>18.372218</td>\n",
       "      <td>99.861091</td>\n",
       "      <td>102.041951</td>\n",
       "    </tr>\n",
       "    <tr>\n",
       "      <th>4</th>\n",
       "      <td>9.768224</td>\n",
       "      <td>56.841119</td>\n",
       "      <td>56.978985</td>\n",
       "    </tr>\n",
       "  </tbody>\n",
       "</table>\n",
       "</div>"
      ],
      "text/plain": [
       "           x          y     y_noise\n",
       "0   4.439863  30.199317   27.659911\n",
       "1  17.414646  95.073231  102.635654\n",
       "2   4.134383  28.671916   24.974757\n",
       "3  18.372218  99.861091  102.041951\n",
       "4   9.768224  56.841119   56.978985"
      ]
     },
     "execution_count": 294,
     "metadata": {},
     "output_type": "execute_result"
    }
   ],
   "source": [
    "# Now lets create the predicted values for x using the predict method\n",
    "# For that we need to extract the column with all the x values and use to generate the prediction\n",
    "linear_df.head(5)"
   ]
  },
  {
   "cell_type": "code",
   "execution_count": 295,
   "metadata": {},
   "outputs": [],
   "source": [
    "x_test = linear_df.iloc[:, :1]"
   ]
  },
  {
   "cell_type": "code",
   "execution_count": 296,
   "metadata": {},
   "outputs": [
    {
     "data": {
      "text/html": [
       "<div>\n",
       "<style scoped>\n",
       "    .dataframe tbody tr th:only-of-type {\n",
       "        vertical-align: middle;\n",
       "    }\n",
       "\n",
       "    .dataframe tbody tr th {\n",
       "        vertical-align: top;\n",
       "    }\n",
       "\n",
       "    .dataframe thead th {\n",
       "        text-align: right;\n",
       "    }\n",
       "</style>\n",
       "<table border=\"1\" class=\"dataframe\">\n",
       "  <thead>\n",
       "    <tr style=\"text-align: right;\">\n",
       "      <th></th>\n",
       "      <th>x</th>\n",
       "    </tr>\n",
       "  </thead>\n",
       "  <tbody>\n",
       "    <tr>\n",
       "      <th>0</th>\n",
       "      <td>4.439863</td>\n",
       "    </tr>\n",
       "    <tr>\n",
       "      <th>1</th>\n",
       "      <td>17.414646</td>\n",
       "    </tr>\n",
       "    <tr>\n",
       "      <th>2</th>\n",
       "      <td>4.134383</td>\n",
       "    </tr>\n",
       "    <tr>\n",
       "      <th>3</th>\n",
       "      <td>18.372218</td>\n",
       "    </tr>\n",
       "    <tr>\n",
       "      <th>4</th>\n",
       "      <td>9.768224</td>\n",
       "    </tr>\n",
       "  </tbody>\n",
       "</table>\n",
       "</div>"
      ],
      "text/plain": [
       "           x\n",
       "0   4.439863\n",
       "1  17.414646\n",
       "2   4.134383\n",
       "3  18.372218\n",
       "4   9.768224"
      ]
     },
     "execution_count": 296,
     "metadata": {},
     "output_type": "execute_result"
    }
   ],
   "source": [
    "x_test.head(5)"
   ]
  },
  {
   "cell_type": "code",
   "execution_count": 297,
   "metadata": {},
   "outputs": [
    {
     "data": {
      "text/plain": [
       "pandas.core.series.Series"
      ]
     },
     "execution_count": 297,
     "metadata": {},
     "output_type": "execute_result"
    }
   ],
   "source": [
    "type(linear_df.iloc[:5, 0])"
   ]
  },
  {
   "cell_type": "code",
   "execution_count": 298,
   "metadata": {},
   "outputs": [],
   "source": [
    "# Create another column in the dataframe to notedown the predicted results.\n",
    "# Use regressor.predict() method to get the y_predict values\n",
    "\n",
    "results_test = regressor.predict(x_test)"
   ]
  },
  {
   "cell_type": "code",
   "execution_count": 302,
   "metadata": {},
   "outputs": [
    {
     "data": {
      "text/plain": [
       "array([ 32.158833 ,  99.79756  ,  25.818325 ,  99.5197   ,  57.693382 ,\n",
       "        66.875015 ,  87.0496   ,  59.385063 ,  33.8729   ,  23.715567 ,\n",
       "        17.019054 ,  83.82669  ,  48.682606 ,  23.59826  ,  99.79756  ,\n",
       "        34.01864  ,  48.682606 ,  33.8729   ,  71.07422  ,  66.66575  ,\n",
       "        66.875015 ,  31.518047 ,  33.8729   ,  32.694294 ,  40.43363  ,\n",
       "        20.232351 ,  23.59826  , 105.495445 , 105.495445 ,  28.013105 ,\n",
       "        13.86349  ,  25.818325 ,  79.178    ,  89.50254  ,  13.86349  ,\n",
       "        66.66575  ,  10.979865 ,  59.385063 ,  71.41589  , 108.23764  ,\n",
       "        32.694294 ,  88.77001  ,  93.61382  ,  98.69926  ,  10.979865 ,\n",
       "        55.91499  , 103.98293  ,  48.682606 ,  90.24879  ,  64.285965 ,\n",
       "        89.50254  ,  57.693382 ,   9.340346 ,  17.019054 ,  18.097332 ,\n",
       "        32.694294 , 105.495445 ,  71.07422  ,  90.24879  ,  65.8306   ,\n",
       "        71.07422  ,  88.77001  ,  98.69926  ,  99.28183  ,  91.784256 ,\n",
       "        18.097332 ,  45.768295 ,   9.340346 ,  64.285965 ,  88.50623  ,\n",
       "        11.920725 ,  23.367054 ,  45.768295 ,  32.41217  ,  89.50254  ,\n",
       "        41.305157 ,  71.41589  ,  57.693382 ,  65.98282  , 101.25723  ,\n",
       "       101.25723  ,  18.097332 ,  90.92784  ,  41.305157 ,  18.097332 ,\n",
       "        48.682606 ,  59.385063 , 105.495445 ,  45.131367 ,  10.979865 ,\n",
       "        93.74837  ,  18.097332 ,  57.693382 ,  93.74837  ,  59.385063 ,\n",
       "        49.394627 ,  88.50623  ,   6.5008607,  66.27718  ,  48.682606 ,\n",
       "       108.23764  ,  88.77001  ,  11.920725 ,  23.367054 ,  52.518116 ,\n",
       "        79.178    ,  40.43363  ,  45.54714  ,  98.69926  , 102.03748  ,\n",
       "        48.682606 ,  99.538284 ,  40.43363  ,  17.019054 ,  60.41601  ,\n",
       "        73.62968  ,  98.991844 , 107.18989  ,  89.50254  ,  83.82669  ,\n",
       "        79.178    ,  79.178    ,  87.0496   , 107.18989  ,  45.131367 ,\n",
       "        17.019054 ,  32.158833 ,  32.158833 ,  45.768295 ,  88.77001  ,\n",
       "        10.566116 ,  53.531315 ,  87.66667  ,  31.758724 ,  13.294214 ,\n",
       "        32.41217  ,  17.019054 ,  88.77001  ,  23.715567 ,  25.818325 ,\n",
       "        90.24879  ,  88.77001  ,  65.98282  ,  99.28183  ,  10.566116 ,\n",
       "       107.18989  ,  66.27718  ,  40.43363  ,  91.90993  ,  73.62968  ],\n",
       "      dtype=float32)"
      ]
     },
     "execution_count": 302,
     "metadata": {},
     "output_type": "execute_result"
    }
   ],
   "source": [
    "results_test"
   ]
  },
  {
   "cell_type": "code",
   "execution_count": 303,
   "metadata": {},
   "outputs": [],
   "source": [
    "linear_df['y_pred'] = results_test"
   ]
  },
  {
   "cell_type": "code",
   "execution_count": 304,
   "metadata": {},
   "outputs": [
    {
     "data": {
      "text/html": [
       "<div>\n",
       "<style scoped>\n",
       "    .dataframe tbody tr th:only-of-type {\n",
       "        vertical-align: middle;\n",
       "    }\n",
       "\n",
       "    .dataframe tbody tr th {\n",
       "        vertical-align: top;\n",
       "    }\n",
       "\n",
       "    .dataframe thead th {\n",
       "        text-align: right;\n",
       "    }\n",
       "</style>\n",
       "<table border=\"1\" class=\"dataframe\">\n",
       "  <thead>\n",
       "    <tr style=\"text-align: right;\">\n",
       "      <th></th>\n",
       "      <th>x</th>\n",
       "      <th>y</th>\n",
       "      <th>y_noise</th>\n",
       "      <th>y_pred</th>\n",
       "    </tr>\n",
       "  </thead>\n",
       "  <tbody>\n",
       "    <tr>\n",
       "      <th>0</th>\n",
       "      <td>4.439863</td>\n",
       "      <td>30.199317</td>\n",
       "      <td>27.659911</td>\n",
       "      <td>32.158833</td>\n",
       "    </tr>\n",
       "    <tr>\n",
       "      <th>1</th>\n",
       "      <td>17.414646</td>\n",
       "      <td>95.073231</td>\n",
       "      <td>102.635654</td>\n",
       "      <td>99.797562</td>\n",
       "    </tr>\n",
       "    <tr>\n",
       "      <th>2</th>\n",
       "      <td>4.134383</td>\n",
       "      <td>28.671916</td>\n",
       "      <td>24.974757</td>\n",
       "      <td>25.818325</td>\n",
       "    </tr>\n",
       "    <tr>\n",
       "      <th>3</th>\n",
       "      <td>18.372218</td>\n",
       "      <td>99.861091</td>\n",
       "      <td>102.041951</td>\n",
       "      <td>99.519699</td>\n",
       "    </tr>\n",
       "    <tr>\n",
       "      <th>4</th>\n",
       "      <td>9.768224</td>\n",
       "      <td>56.841119</td>\n",
       "      <td>56.978985</td>\n",
       "      <td>57.693382</td>\n",
       "    </tr>\n",
       "  </tbody>\n",
       "</table>\n",
       "</div>"
      ],
      "text/plain": [
       "           x          y     y_noise     y_pred\n",
       "0   4.439863  30.199317   27.659911  32.158833\n",
       "1  17.414646  95.073231  102.635654  99.797562\n",
       "2   4.134383  28.671916   24.974757  25.818325\n",
       "3  18.372218  99.861091  102.041951  99.519699\n",
       "4   9.768224  56.841119   56.978985  57.693382"
      ]
     },
     "execution_count": 304,
     "metadata": {},
     "output_type": "execute_result"
    }
   ],
   "source": [
    "linear_df.head(5)"
   ]
  },
  {
   "cell_type": "code",
   "execution_count": 308,
   "metadata": {},
   "outputs": [
    {
     "data": {
      "text/plain": [
       "<matplotlib.legend.Legend at 0x7ff9a4080940>"
      ]
     },
     "execution_count": 308,
     "metadata": {},
     "output_type": "execute_result"
    },
    {
     "data": {
      "image/png": "[encoded data removed]",
      "text/plain": [
       "<Figure size 720x576 with 1 Axes>"
      ]
     },
     "metadata": {},
     "output_type": "display_data"
    }
   ],
   "source": [
    "fig, ax = plt.subplots(figsize=(10, 8))\n",
    "plt.scatter(x=linear_df.x,y=linear_df.y_noise,color='r',label='actual')\n",
    "plt.scatter(x=linear_df.x,y=linear_df.y_pred,color='b',label='predicted')\n",
    "plt.grid(True)\n",
    "plt.legend()"
   ]
  },
  {
   "cell_type": "code",
   "execution_count": 310,
   "metadata": {},
   "outputs": [],
   "source": [
    "# write the csv file out to include the predicted values. \n",
    "linear_df.to_csv('all_linear_with_pred_values.csv')"
   ]
  },
  {
   "cell_type": "code",
   "execution_count": 312,
   "metadata": {},
   "outputs": [],
   "source": [
    "# Create a useable model.\n",
    "# this model can now be invoked from any application to carry out the predictions. \n",
    "regressor.save_model('linear_xgboost_model')"
   ]
  },
  {
   "cell_type": "code",
   "execution_count": null,
   "metadata": {},
   "outputs": [],
   "source": []
  }
 ],
 "metadata": {
  "kernelspec": {
   "display_name": "conda_python3",
   "language": "python",
   "name": "conda_python3"
  },
  "language_info": {
   "codemirror_mode": {
    "name": "ipython",
    "version": 3
   },
   "file_extension": ".py",
   "mimetype": "text/x-python",
   "name": "python",
   "nbconvert_exporter": "python",
   "pygments_lexer": "ipython3",
   "version": "3.6.5"
  }
 },
 "nbformat": 4,
 "nbformat_minor": 2
}
