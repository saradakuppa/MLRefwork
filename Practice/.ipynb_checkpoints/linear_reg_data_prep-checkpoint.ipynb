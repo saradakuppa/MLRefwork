{
 "cells": [
  {
   "cell_type": "code",
   "execution_count": 114,
   "metadata": {},
   "outputs": [],
   "source": [
    "import numpy as np\n",
    "import pandas as pd\n",
    "\n",
    "import boto3\n",
    "import matplotlib.pyplot as plt"
   ]
  },
  {
   "cell_type": "markdown",
   "metadata": {},
   "source": [
    "Simple Linear Regression is defined by the linear relation between x and y based on a constant and a coefficient. It is defined as  y = mx + b\n",
    "\n",
    "\n",
    "Create the data set for the function y= 5x + 8 using random numbers. "
   ]
  },
  {
   "cell_type": "code",
   "execution_count": 115,
   "metadata": {},
   "outputs": [],
   "source": [
    "def linearfn(x):\n",
    "    return 5*x + 8"
   ]
  },
  {
   "cell_type": "code",
   "execution_count": 116,
   "metadata": {},
   "outputs": [
    {
     "data": {
      "text/plain": [
       "148"
      ]
     },
     "execution_count": 116,
     "metadata": {},
     "output_type": "execute_result"
    }
   ],
   "source": [
    "# y = 5 * 28 + 8 = 148\n",
    "linearfn(28)"
   ]
  },
  {
   "cell_type": "code",
   "execution_count": 117,
   "metadata": {},
   "outputs": [
    {
     "data": {
      "text/plain": [
       "11.0"
      ]
     },
     "execution_count": 117,
     "metadata": {},
     "output_type": "execute_result"
    }
   ],
   "source": [
    "# 5 * 0.6 + 8 = 11.0\n",
    "linearfn(0.6)"
   ]
  },
  {
   "cell_type": "code",
   "execution_count": 118,
   "metadata": {},
   "outputs": [],
   "source": [
    "# When a random generator genrates number it, generates it based on the the previous value it generated. \n",
    "# However, for the first random number, there is no reference to look back. \n",
    "# That's where seed is used to give the random number generator a starting number to refer to. \n",
    "# That's the reason it is called a seed.\n",
    "\n",
    "np.random.seed(5)\n",
    "sample = 150\n",
    "# pd.Series - Create a One-dimensional ndarray with axis labels.\n",
    "# np.random.rand()\n",
    "# Create an array of the given shape and populate it with random samples from a uniform distribution over [0, 1).\n",
    "x_values = pd.Series(np.random.rand(sample) * 20)"
   ]
  },
  {
   "cell_type": "code",
   "execution_count": 119,
   "metadata": {},
   "outputs": [
    {
     "data": {
      "text/plain": [
       "0     4.439863\n",
       "1    17.414646\n",
       "2     4.134383\n",
       "3    18.372218\n",
       "4     9.768224\n",
       "dtype: float64"
      ]
     },
     "execution_count": 119,
     "metadata": {},
     "output_type": "execute_result"
    }
   ],
   "source": [
    "x_values.head(5)"
   ]
  },
  {
   "cell_type": "code",
   "execution_count": 120,
   "metadata": {},
   "outputs": [],
   "source": [
    "# map() - Python map object is an iterator. It maps y values to corresponding x values based on the function provided\n",
    "# In this y values are mapped from x values based on the function \"linearfn\"\n",
    "# map(function)\n",
    "y_values = x_values.map(linearfn)"
   ]
  },
  {
   "cell_type": "code",
   "execution_count": 121,
   "metadata": {},
   "outputs": [
    {
     "data": {
      "text/plain": [
       "0    30.199317\n",
       "1    95.073231\n",
       "2    28.671916\n",
       "3    99.861091\n",
       "4    56.841119\n",
       "dtype: float64"
      ]
     },
     "execution_count": 121,
     "metadata": {},
     "output_type": "execute_result"
    }
   ],
   "source": [
    "y_values.head(5)"
   ]
  },
  {
   "cell_type": "code",
   "execution_count": 122,
   "metadata": {},
   "outputs": [],
   "source": [
    "# randn generates an array of shape of the sample (one dimensional size), filled with random floats \n",
    "# These floats are sampled from a univariate “normal” (Gaussian) distribution of mean 0 and variance 1\n",
    "\n",
    "y_noise_values = y_values + np.random.randn(sample) * 3"
   ]
  },
  {
   "cell_type": "code",
   "execution_count": 123,
   "metadata": {},
   "outputs": [
    {
     "data": {
      "text/plain": [
       "0     27.659911\n",
       "1    102.635654\n",
       "2     24.974757\n",
       "3    102.041951\n",
       "4     56.978985\n",
       "dtype: float64"
      ]
     },
     "execution_count": 123,
     "metadata": {},
     "output_type": "execute_result"
    }
   ],
   "source": [
    "y_noise_values.head(5)"
   ]
  },
  {
   "cell_type": "code",
   "execution_count": 124,
   "metadata": {},
   "outputs": [],
   "source": [
    "# Create a dataframe with all the 3 value as columns\n",
    "df = pd.DataFrame({'x':x_values, 'y':y_values, 'y_noise':y_noise_values})"
   ]
  },
  {
   "cell_type": "code",
   "execution_count": 125,
   "metadata": {},
   "outputs": [
    {
     "data": {
      "text/html": [
       "<div>\n",
       "<style scoped>\n",
       "    .dataframe tbody tr th:only-of-type {\n",
       "        vertical-align: middle;\n",
       "    }\n",
       "\n",
       "    .dataframe tbody tr th {\n",
       "        vertical-align: top;\n",
       "    }\n",
       "\n",
       "    .dataframe thead th {\n",
       "        text-align: right;\n",
       "    }\n",
       "</style>\n",
       "<table border=\"1\" class=\"dataframe\">\n",
       "  <thead>\n",
       "    <tr style=\"text-align: right;\">\n",
       "      <th></th>\n",
       "      <th>x</th>\n",
       "      <th>y</th>\n",
       "      <th>y_noise</th>\n",
       "    </tr>\n",
       "  </thead>\n",
       "  <tbody>\n",
       "    <tr>\n",
       "      <th>0</th>\n",
       "      <td>4.439863</td>\n",
       "      <td>30.199317</td>\n",
       "      <td>27.659911</td>\n",
       "    </tr>\n",
       "    <tr>\n",
       "      <th>1</th>\n",
       "      <td>17.414646</td>\n",
       "      <td>95.073231</td>\n",
       "      <td>102.635654</td>\n",
       "    </tr>\n",
       "    <tr>\n",
       "      <th>2</th>\n",
       "      <td>4.134383</td>\n",
       "      <td>28.671916</td>\n",
       "      <td>24.974757</td>\n",
       "    </tr>\n",
       "    <tr>\n",
       "      <th>3</th>\n",
       "      <td>18.372218</td>\n",
       "      <td>99.861091</td>\n",
       "      <td>102.041951</td>\n",
       "    </tr>\n",
       "    <tr>\n",
       "      <th>4</th>\n",
       "      <td>9.768224</td>\n",
       "      <td>56.841119</td>\n",
       "      <td>56.978985</td>\n",
       "    </tr>\n",
       "  </tbody>\n",
       "</table>\n",
       "</div>"
      ],
      "text/plain": [
       "           x          y     y_noise\n",
       "0   4.439863  30.199317   27.659911\n",
       "1  17.414646  95.073231  102.635654\n",
       "2   4.134383  28.671916   24.974757\n",
       "3  18.372218  99.861091  102.041951\n",
       "4   9.768224  56.841119   56.978985"
      ]
     },
     "execution_count": 125,
     "metadata": {},
     "output_type": "execute_result"
    }
   ],
   "source": [
    "df.head(5)"
   ]
  },
  {
   "cell_type": "code",
   "execution_count": 126,
   "metadata": {},
   "outputs": [
    {
     "data": {
      "text/html": [
       "<div>\n",
       "<style scoped>\n",
       "    .dataframe tbody tr th:only-of-type {\n",
       "        vertical-align: middle;\n",
       "    }\n",
       "\n",
       "    .dataframe tbody tr th {\n",
       "        vertical-align: top;\n",
       "    }\n",
       "\n",
       "    .dataframe thead th {\n",
       "        text-align: right;\n",
       "    }\n",
       "</style>\n",
       "<table border=\"1\" class=\"dataframe\">\n",
       "  <thead>\n",
       "    <tr style=\"text-align: right;\">\n",
       "      <th></th>\n",
       "      <th>x</th>\n",
       "      <th>y</th>\n",
       "      <th>y_noise</th>\n",
       "    </tr>\n",
       "  </thead>\n",
       "  <tbody>\n",
       "    <tr>\n",
       "      <th>x</th>\n",
       "      <td>1.000000</td>\n",
       "      <td>1.000000</td>\n",
       "      <td>0.995633</td>\n",
       "    </tr>\n",
       "    <tr>\n",
       "      <th>y</th>\n",
       "      <td>1.000000</td>\n",
       "      <td>1.000000</td>\n",
       "      <td>0.995633</td>\n",
       "    </tr>\n",
       "    <tr>\n",
       "      <th>y_noise</th>\n",
       "      <td>0.995633</td>\n",
       "      <td>0.995633</td>\n",
       "      <td>1.000000</td>\n",
       "    </tr>\n",
       "  </tbody>\n",
       "</table>\n",
       "</div>"
      ],
      "text/plain": [
       "                x         y   y_noise\n",
       "x        1.000000  1.000000  0.995633\n",
       "y        1.000000  1.000000  0.995633\n",
       "y_noise  0.995633  0.995633  1.000000"
      ]
     },
     "execution_count": 126,
     "metadata": {},
     "output_type": "execute_result"
    }
   ],
   "source": [
    "# Compute pairwise correlation of columns\n",
    "# Correlation will compute how strongly the features are related to the output.\n",
    "# It will create a correlation on the scale on 0-1 of how linearly x is related to y and x is related to y_noise\n",
    "df.corr()"
   ]
  },
  {
   "cell_type": "code",
   "execution_count": 127,
   "metadata": {},
   "outputs": [],
   "source": [
    "# Generate a plot to understand the fit of the data\n",
    "# The plot will indicate the linear fit between x and y and x and y_noise"
   ]
  },
  {
   "cell_type": "code",
   "execution_count": 128,
   "metadata": {},
   "outputs": [
    {
     "data": {
      "text/plain": [
       "<matplotlib.legend.Legend at 0x7efbb7e72240>"
      ]
     },
     "execution_count": 128,
     "metadata": {},
     "output_type": "execute_result"
    },
    {
     "data": {
      "image/png": "[encoded data removed]",
      "text/plain": [
       "<Figure size 720x576 with 1 Axes>"
      ]
     },
     "metadata": {},
     "output_type": "display_data"
    }
   ],
   "source": [
    "# https://matplotlib.org/api/_as_gen/matplotlib.pyplot.scatter.html\n",
    "# scatter(x, y[, s, c, marker, cmap, norm, ...])\tA scatter plot of y vs x with varying marker size and/or color.\n",
    "# Set figure size\n",
    "fig, ax = plt.subplots(figsize=(10, 8))\n",
    "\n",
    "plt.scatter(x=df.x, y=df.y, label='Ideal fit')\n",
    "plt.grid(True)\n",
    "plt.xlabel('Input Feature')\n",
    "plt.ylabel('Target')\n",
    "plt.legend()"
   ]
  },
  {
   "cell_type": "code",
   "execution_count": 129,
   "metadata": {},
   "outputs": [
    {
     "data": {
      "text/plain": [
       "<matplotlib.legend.Legend at 0x7efbb7dd6588>"
      ]
     },
     "execution_count": 129,
     "metadata": {},
     "output_type": "execute_result"
    },
    {
     "data": {
      "image/png": "[encoded data removed]",
      "text/plain": [
       "<Figure size 720x576 with 1 Axes>"
      ]
     },
     "metadata": {},
     "output_type": "display_data"
    }
   ],
   "source": [
    "# Now lets plot the y_noise on top of this plot and see how much these points deviate from the idal fit conditions\n",
    "\n",
    "fig, ax = plt.subplots(figsize=(10, 8))\n",
    "\n",
    "plt.scatter(x=df.x, y=df.y, label='Ideal fit')\n",
    "plt.scatter(x=df.x, y=df.y_noise, color = 'r', marker = '+', label = 'Target')\n",
    "plt.grid(True)\n",
    "plt.xlabel('Input Feature')\n",
    "plt.ylabel('Target')\n",
    "plt.legend()"
   ]
  },
  {
   "cell_type": "code",
   "execution_count": 130,
   "metadata": {},
   "outputs": [],
   "source": [
    "# Save all this data to a csv file\n",
    "# This data will then be split into training and validation (test) data\n",
    "# df.to_csv - Write object to a comma-separated values (csv) file.\n",
    "\n",
    "df.to_csv('all_linear_data.csv', index=False, columns=['x', 'y', 'y_noise'])"
   ]
  },
  {
   "cell_type": "markdown",
   "metadata": {},
   "source": [
    "Shuffle the dataset to create Training and Validation data sets"
   ]
  },
  {
   "cell_type": "code",
   "execution_count": 131,
   "metadata": {},
   "outputs": [
    {
     "data": {
      "text/html": [
       "<div>\n",
       "<style scoped>\n",
       "    .dataframe tbody tr th:only-of-type {\n",
       "        vertical-align: middle;\n",
       "    }\n",
       "\n",
       "    .dataframe tbody tr th {\n",
       "        vertical-align: top;\n",
       "    }\n",
       "\n",
       "    .dataframe thead th {\n",
       "        text-align: right;\n",
       "    }\n",
       "</style>\n",
       "<table border=\"1\" class=\"dataframe\">\n",
       "  <thead>\n",
       "    <tr style=\"text-align: right;\">\n",
       "      <th></th>\n",
       "      <th>x</th>\n",
       "      <th>y</th>\n",
       "      <th>y_noise</th>\n",
       "    </tr>\n",
       "  </thead>\n",
       "  <tbody>\n",
       "    <tr>\n",
       "      <th>82</th>\n",
       "      <td>16.871099</td>\n",
       "      <td>92.355497</td>\n",
       "      <td>88.563247</td>\n",
       "    </tr>\n",
       "    <tr>\n",
       "      <th>134</th>\n",
       "      <td>1.268020</td>\n",
       "      <td>14.340098</td>\n",
       "      <td>13.212976</td>\n",
       "    </tr>\n",
       "    <tr>\n",
       "      <th>114</th>\n",
       "      <td>10.534351</td>\n",
       "      <td>60.671757</td>\n",
       "      <td>60.304166</td>\n",
       "    </tr>\n",
       "    <tr>\n",
       "      <th>42</th>\n",
       "      <td>17.409662</td>\n",
       "      <td>95.048309</td>\n",
       "      <td>92.380046</td>\n",
       "    </tr>\n",
       "    <tr>\n",
       "      <th>109</th>\n",
       "      <td>19.072610</td>\n",
       "      <td>103.363051</td>\n",
       "      <td>102.040835</td>\n",
       "    </tr>\n",
       "  </tbody>\n",
       "</table>\n",
       "</div>"
      ],
      "text/plain": [
       "             x           y     y_noise\n",
       "82   16.871099   92.355497   88.563247\n",
       "134   1.268020   14.340098   13.212976\n",
       "114  10.534351   60.671757   60.304166\n",
       "42   17.409662   95.048309   92.380046\n",
       "109  19.072610  103.363051  102.040835"
      ]
     },
     "execution_count": 131,
     "metadata": {},
     "output_type": "execute_result"
    }
   ],
   "source": [
    "# Shuffle the dataset to creat a random dataset, which can then be divided into Training and Validation (Test) sets\n",
    "# Training dataset = 70% \n",
    "# Test dataset = 30%\n",
    "# Randomise the dataset\n",
    "# Create a list of all the index of the dataset\n",
    "# We also need to provide a seed to initialize the randomisation\n",
    "np.random.seed(5)\n",
    "l = list(df.index)\n",
    "\n",
    "# Now shuffle the list l using shuffle function\n",
    "np.random.shuffle(l)\n",
    "\n",
    "# Let's find out how the shuffling has been done\n",
    "df = df.iloc[l]\n",
    "df.head(5)"
   ]
  },
  {
   "cell_type": "code",
   "execution_count": 132,
   "metadata": {},
   "outputs": [],
   "source": [
    "# Divind the DataFrame df into 70% Training set and 30% test set \n",
    "# We first the number of rows\n",
    "# We use shape function on first column which is [0] to get the number of rows \n",
    "rows = df.shape[0]\n",
    "# Create training and test set by myltiplying my 0.7 & 0.3 respectively and only taking the integer part of the\n",
    "train = int(0.7 * rows)\n",
    "test = int(0.3 * rows)"
   ]
  },
  {
   "cell_type": "code",
   "execution_count": 133,
   "metadata": {},
   "outputs": [
    {
     "data": {
      "text/plain": [
       "(150, 105, 45)"
      ]
     },
     "execution_count": 133,
     "metadata": {},
     "output_type": "execute_result"
    }
   ],
   "source": [
    "rows, train, test"
   ]
  },
  {
   "cell_type": "code",
   "execution_count": 134,
   "metadata": {},
   "outputs": [],
   "source": [
    "# Write Training dataset to csv file\n",
    "# We are only considering dependent variable and independent variable\n",
    "# There will be no headers\n",
    "\n",
    "df[:train].to_csv('linear_training_data.csv', index=False, columns=['y_noise', 'x'])"
   ]
  },
  {
   "cell_type": "code",
   "execution_count": 135,
   "metadata": {},
   "outputs": [],
   "source": [
    "# Write Training dataset to csv file\n",
    "# We are only considering dependent variable and independent variable\n",
    "# There will be no headers\n",
    "\n",
    "df[:test].to_csv('linear_test_data.csv',  index=False, columns=['y_noise', 'x'])"
   ]
  },
  {
   "cell_type": "code",
   "execution_count": null,
   "metadata": {},
   "outputs": [],
   "source": []
  },
  {
   "cell_type": "code",
   "execution_count": null,
   "metadata": {},
   "outputs": [],
   "source": []
  }
 ],
 "metadata": {
  "kernelspec": {
   "display_name": "conda_python3",
   "language": "python",
   "name": "conda_python3"
  },
  "language_info": {
   "codemirror_mode": {
    "name": "ipython",
    "version": 3
   },
   "file_extension": ".py",
   "mimetype": "text/x-python",
   "name": "python",
   "nbconvert_exporter": "python",
   "pygments_lexer": "ipython3",
   "version": "3.6.5"
  }
 },
 "nbformat": 4,
 "nbformat_minor": 2
}
