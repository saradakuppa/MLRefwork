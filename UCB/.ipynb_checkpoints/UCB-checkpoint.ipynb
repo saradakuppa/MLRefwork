{
 "cells": [
  {
   "cell_type": "code",
   "execution_count": 1,
   "metadata": {},
   "outputs": [],
   "source": [
    "import pandas as pd\n",
    "import numpy as np \n",
    "\n",
    "import boto3\n",
    "import sagemaker.amazon.common as smac"
   ]
  },
  {
   "cell_type": "code",
   "execution_count": 2,
   "metadata": {},
   "outputs": [],
   "source": [
    "# Function to download data from S3\n",
    "\n",
    "def download_from_s3(filename, bucket, key):\n",
    "    with open(filename, 'wb') as f: #Write in Binary Mode\n",
    "        return boto3.resource('s3').Bucket(bucket).Object(key).download_fileobj(f)"
   ]
  },
  {
   "cell_type": "code",
   "execution_count": 5,
   "metadata": {},
   "outputs": [],
   "source": [
    "download_from_s3('Ads_Ctr', 'sara-ml-sagemaker', 'UCB/Ads_CTR_Optimisation.csv')"
   ]
  },
  {
   "cell_type": "code",
   "execution_count": 6,
   "metadata": {},
   "outputs": [],
   "source": [
    "AdsData = pd.read_csv('Ads_Ctr')"
   ]
  },
  {
   "cell_type": "code",
   "execution_count": 7,
   "metadata": {},
   "outputs": [
    {
     "data": {
      "text/html": [
       "<div>\n",
       "<style scoped>\n",
       "    .dataframe tbody tr th:only-of-type {\n",
       "        vertical-align: middle;\n",
       "    }\n",
       "\n",
       "    .dataframe tbody tr th {\n",
       "        vertical-align: top;\n",
       "    }\n",
       "\n",
       "    .dataframe thead th {\n",
       "        text-align: right;\n",
       "    }\n",
       "</style>\n",
       "<table border=\"1\" class=\"dataframe\">\n",
       "  <thead>\n",
       "    <tr style=\"text-align: right;\">\n",
       "      <th></th>\n",
       "      <th>Ad 1</th>\n",
       "      <th>Ad 2</th>\n",
       "      <th>Ad 3</th>\n",
       "      <th>Ad 4</th>\n",
       "      <th>Ad 5</th>\n",
       "      <th>Ad 6</th>\n",
       "      <th>Ad 7</th>\n",
       "      <th>Ad 8</th>\n",
       "      <th>Ad 9</th>\n",
       "      <th>Ad 10</th>\n",
       "    </tr>\n",
       "  </thead>\n",
       "  <tbody>\n",
       "    <tr>\n",
       "      <th>0</th>\n",
       "      <td>1</td>\n",
       "      <td>0</td>\n",
       "      <td>0</td>\n",
       "      <td>0</td>\n",
       "      <td>1</td>\n",
       "      <td>0</td>\n",
       "      <td>0</td>\n",
       "      <td>0</td>\n",
       "      <td>1</td>\n",
       "      <td>0</td>\n",
       "    </tr>\n",
       "    <tr>\n",
       "      <th>1</th>\n",
       "      <td>0</td>\n",
       "      <td>0</td>\n",
       "      <td>0</td>\n",
       "      <td>0</td>\n",
       "      <td>0</td>\n",
       "      <td>0</td>\n",
       "      <td>0</td>\n",
       "      <td>0</td>\n",
       "      <td>1</td>\n",
       "      <td>0</td>\n",
       "    </tr>\n",
       "    <tr>\n",
       "      <th>2</th>\n",
       "      <td>0</td>\n",
       "      <td>0</td>\n",
       "      <td>0</td>\n",
       "      <td>0</td>\n",
       "      <td>0</td>\n",
       "      <td>0</td>\n",
       "      <td>0</td>\n",
       "      <td>0</td>\n",
       "      <td>0</td>\n",
       "      <td>0</td>\n",
       "    </tr>\n",
       "    <tr>\n",
       "      <th>3</th>\n",
       "      <td>0</td>\n",
       "      <td>1</td>\n",
       "      <td>0</td>\n",
       "      <td>0</td>\n",
       "      <td>0</td>\n",
       "      <td>0</td>\n",
       "      <td>0</td>\n",
       "      <td>1</td>\n",
       "      <td>0</td>\n",
       "      <td>0</td>\n",
       "    </tr>\n",
       "    <tr>\n",
       "      <th>4</th>\n",
       "      <td>0</td>\n",
       "      <td>0</td>\n",
       "      <td>0</td>\n",
       "      <td>0</td>\n",
       "      <td>0</td>\n",
       "      <td>0</td>\n",
       "      <td>0</td>\n",
       "      <td>0</td>\n",
       "      <td>0</td>\n",
       "      <td>0</td>\n",
       "    </tr>\n",
       "  </tbody>\n",
       "</table>\n",
       "</div>"
      ],
      "text/plain": [
       "   Ad 1  Ad 2  Ad 3  Ad 4  Ad 5  Ad 6  Ad 7  Ad 8  Ad 9  Ad 10\n",
       "0     1     0     0     0     1     0     0     0     1      0\n",
       "1     0     0     0     0     0     0     0     0     1      0\n",
       "2     0     0     0     0     0     0     0     0     0      0\n",
       "3     0     1     0     0     0     0     0     1     0      0\n",
       "4     0     0     0     0     0     0     0     0     0      0"
      ]
     },
     "execution_count": 7,
     "metadata": {},
     "output_type": "execute_result"
    }
   ],
   "source": [
    "AdsData.head(5)"
   ]
  },
  {
   "cell_type": "code",
   "execution_count": 8,
   "metadata": {},
   "outputs": [],
   "source": [
    "import matplotlib.pyplot as plt"
   ]
  },
  {
   "cell_type": "code",
   "execution_count": 9,
   "metadata": {},
   "outputs": [],
   "source": [
    "import math"
   ]
  },
  {
   "cell_type": "code",
   "execution_count": 11,
   "metadata": {},
   "outputs": [],
   "source": [
    "# Implementing UCB\n",
    "# Step 1: At each round n (iteration), we consider two number for each (i) ad:\n",
    "# Ni(n) - the number of times the advert i was selected up to round n,\n",
    "# For this we create a vector of size 'd' and initially the number of selections for all the adverts is '0'\n",
    "# So we create initialise it to a vector of [0] and then multiply it by d\n",
    "\n",
    "\n",
    "N = 10000 # Number of iterations (10k customers selected to study the selection of adverts)\n",
    "\n",
    "d = 10 # Number of adverts created\n",
    "\n",
    "ads_selected = [] # this gives the vector of ads that were selected for each iteration \n",
    "number_of_selections = [0] * d\n",
    "\n",
    "# Ri(n) - the sum of revards of the advert i receives upto to round n\n",
    "# Similarly for the first rounds the sums of the rewards for the selected adverts is [0] * d\n",
    "sums_of_rewards = [0] * d\n",
    "\n",
    "# Step2: From these 2 numbers we comput:\n",
    "# The average reward for advert i up to round n \n",
    "# ri(n) = Ri(n)/Ni(n)\n",
    "\n",
    "# Confidence interval [ri(n) - sum((n), ri(n))i + sum(n)i] at round n with \n",
    "# sum(n)i = sqrt(3/2*((log(n))/(Ni(n))))\n",
    "total_reward = 0\n",
    "for n in range(0, N):\n",
    "    advert = 0\n",
    "    # the max_upper_bound is different at each iteration there it needs initialized for each iteration\n",
    "    max_upper_bound = 0\n",
    "    for i in range(0, d):\n",
    "        if (number_of_selections[i] > 0):\n",
    "            average_reward = sums_of_rewards[i]/number_of_selections[i]\n",
    "            # indexes in python start at 0 therefore for math operation we should consider the first iteration as n+1 = 0+1 =1  \n",
    "            delta_i = math.sqrt(3/2 * math.log(n + 1)/number_of_selections[i])\n",
    "            upper_bound = average_reward + delta_i\n",
    "        else:\n",
    "            # A very high value is assigned to upper_bound, \n",
    "            # So that all the adverts are selected and tried out.\n",
    "            # Refer to ucb python part 3 lecture for this explanation\n",
    "            upper_bound = 1e400\n",
    "        # Also for each advert, upper_bound is compared to the max upper upper bound and then replaced by new higher value\n",
    "        if upper_bound > max_upper_bound:\n",
    "            max_upper_bound = upper_bound\n",
    "            advert = i\n",
    "    ads_selected.append(advert)\n",
    "    number_of_selections[advert] = number_of_selections[advert] + 1\n",
    "    # Reward at round n \n",
    "    reward = AdsData.values[n, advert]\n",
    "    sums_of_rewards[advert] = sums_of_rewards[advert] + reward\n",
    "    total_reward = total_reward + reward"
   ]
  },
  {
   "cell_type": "code",
   "execution_count": 12,
   "metadata": {},
   "outputs": [
    {
     "data": {
      "text/plain": [
       "2178"
      ]
     },
     "execution_count": 12,
     "metadata": {},
     "output_type": "execute_result"
    }
   ],
   "source": [
    "total_reward"
   ]
  },
  {
   "cell_type": "code",
   "execution_count": null,
   "metadata": {},
   "outputs": [],
   "source": [
    "# We will plot a histogram to showcase the selection of adverts \n",
    "# this will indicate which advert was most liked by the customers"
   ]
  },
  {
   "cell_type": "code",
   "execution_count": 16,
   "metadata": {},
   "outputs": [
    {
     "data": {
      "text/plain": [
       "Text(0,0.5,'Number of times each Advert was selected')"
      ]
     },
     "execution_count": 16,
     "metadata": {},
     "output_type": "execute_result"
    },
    {
     "data": {
      "image/png": "[encoded data removed]",
      "text/plain": [
       "<Figure size 432x288 with 1 Axes>"
      ]
     },
     "metadata": {},
     "output_type": "display_data"
    }
   ],
   "source": [
    "# Visualise the results\n",
    "plt.hist(ads_selected)\n",
    "plt.title('Histogram ofAdvert Selection')\n",
    "plt.xlabel('Adverts')\n",
    "plt.ylabel('Number of times each Advert was selected')"
   ]
  },
  {
   "cell_type": "code",
   "execution_count": null,
   "metadata": {},
   "outputs": [],
   "source": [
    "# Advert index number 4 (Advert 5) was selected the maximum number of times.\n",
    "# So clearly advert 5 is selected to be showcased to the customers."
   ]
  }
 ],
 "metadata": {
  "kernelspec": {
   "display_name": "conda_python3",
   "language": "python",
   "name": "conda_python3"
  },
  "language_info": {
   "codemirror_mode": {
    "name": "ipython",
    "version": 3
   },
   "file_extension": ".py",
   "mimetype": "text/x-python",
   "name": "python",
   "nbconvert_exporter": "python",
   "pygments_lexer": "ipython3",
   "version": "3.6.5"
  }
 },
 "nbformat": 4,
 "nbformat_minor": 2
}
